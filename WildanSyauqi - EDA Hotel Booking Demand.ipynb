{
 "cells": [
  {
   "cell_type": "markdown",
   "id": "efdd0a40-be2d-42a3-8573-bf036d18b54b",
   "metadata": {},
   "source": [
    "# **HOTEL BOOKING DEMAND ANALYSIS**"
   ]
  },
  {
   "cell_type": "code",
   "execution_count": 2,
   "id": "8eae7d3a-0ce7-4c54-9709-fdc7ad40e5c2",
   "metadata": {},
   "outputs": [],
   "source": [
    "import pandas as pd\n",
    "pd.options.mode.chained_assignment = None\n",
    "import kagglehub\n",
    "import os\n",
    "\n",
    "import matplotlib.pyplot as plt\n",
    "import seaborn as sns\n",
    "\n",
    "from scipy.stats import ks_2samp, mannwhitneyu, spearmanr, chi2_contingency\n",
    "import statsmodels.api as sm"
   ]
  },
  {
   "cell_type": "markdown",
   "id": "d4b0c081-0d8f-4578-a88f-9d2b89af0ec4",
   "metadata": {},
   "source": [
    "# Background"
   ]
  },
  {
   "cell_type": "markdown",
   "id": "12e60268-f9da-470b-9eae-de4e358bda25",
   "metadata": {},
   "source": [
    "The hospitality sector offers diverse accommodation experiences that cater to various types of travelers. City hotels, often situated within vibrant urban centers, blend modern amenities with local charm, providing travelers with easy access to historic neighborhoods, landmarks, and cultural hotspots. For instance, City Hotel in Lisbon allows guests to enjoy modern comfort amidst iconic sites and bustling markets, appealing to those exploring urban landscapes. Meanwhile, resort hotels, typically located in scenic coastal regions like the Algarve, offer serene escapes that emphasize relaxation and outdoor adventure, drawing travelers in search of leisure and scenic beauty.\n",
    "\n",
    "Hotels generate revenue from guests who stay and spend on additional services provided by the hotel.\r\n",
    "Howeve c cancellations are inevitable. When cancellations occur too frequently, they can pose a significant challenge for t e hotel. Excessive cancellations prevent the hotel from reaching its full income potential."
   ]
  },
  {
   "cell_type": "markdown",
   "id": "d2a4ea80-db76-4ae1-a1f8-bbebb914fffc",
   "metadata": {},
   "source": [
    "# Business Problem"
   ]
  },
  {
   "cell_type": "markdown",
   "id": "a20006f9-7daa-4126-a5f6-6e62f89906e5",
   "metadata": {},
   "source": [
    "From 2015 to 2017, hotels experienced a high number of booking cancellations, both at Resort Hotels and City Hotels. This situation could lead to a reduction in potential revenue from non-room services, such as food and special requests from guests, including room service and cleaning.\n",
    "\n",
    "The analysis will be conducted to answer the following questions:\n",
    "1. What was the portion of booking cancellations for each hotel?\n",
    "2. What country has the highest booking cancellation rate?\n",
    "3. Did the frequency of cancellations increase year over year?\n",
    "4. How has the ADR fluctuated between bookings and cancelatons?\n",
    "5. Which hotel was more profitable and experienced fewer booking cancelations?\n",
    "6. When was the peak booking season for each hotel type?\n",
    "7. Did lead time affect booking cancellations?\n",
    "8. Was there any correlation between deposit type and booking cancellations?\n",
    "9. Did meals and special requests affect ADR?\n",
    "10. Did booking cancellations impact the hotel's potential revenue loss?"
   ]
  },
  {
   "cell_type": "markdown",
   "id": "eecdc0af-be44-4e6e-9fff-e7d01237e15b",
   "metadata": {},
   "source": [
    "# Goals"
   ]
  },
  {
   "cell_type": "markdown",
   "id": "ef124783-3e95-42b8-b659-1c2f6b8bf975",
   "metadata": {},
   "source": [
    "This analysis aims to help City Hotel and Resort Hotel achieve their maximum potential revenue by identifying factors influencing booking cancellations and recommending data-driven strategies to minimize them."
   ]
  },
  {
   "cell_type": "markdown",
   "id": "2e675033-b53f-40b0-bcf4-3734b256605c",
   "metadata": {},
   "source": [
    "# The Data"
   ]
  },
  {
   "cell_type": "markdown",
   "id": "0b50f154-b505-4c8b-b81d-e389f41ebd42",
   "metadata": {},
   "source": [
    "This dataset contains booking information for a city hotel and a resort hotel taken from [Kaggle](https://www.kaggle.com/datasets/jessemostipak/hotel-booking-demand/data), with details removed for anonymity. There are 32 columns in the dataset."
   ]
  },
  {
   "cell_type": "markdown",
   "id": "cfad6142-b931-46d6-a106-3e5481296e97",
   "metadata": {},
   "source": [
    "| No. | **Attribute**    | **Description**                                          |\n",
    "|-----| ---------------- | -------------------------------------------------------- |\n",
    "| 1.  | **hotel**        | Hotel (H1 = Resort Hotel or H2 = City Hotel).                  |\n",
    "| 2.  | **is_canceled**  | Value indicating if the booking was canceled (1) or not (0)       |\n",
    "| 3.  | **lead_time**   | Number of days that elapsed between the entering date of the booking into the PMS and the arrival date                    |\n",
    "| 4.  | **arrival_date_year**     | Year of arrival date |\n",
    "| 5.  | **arrival_date_month** | Month of arrival date            |\n",
    "| 6.  | **arrival_date_week_number**      | Week number of year for arrival date.                  |\n",
    "| 7.  | **arrival_date_day_of_month**         | Day of arrival date.                     |\n",
    "| 8.  | **stays_in_weekend_nights**       | Number of weekend nights (Saturday or Sunday) the guest stayed or booked to stay at the hotel.                   | \n",
    "| 9.  | **stays_in_week_nights**    | Number of week nights (Monday to Friday) the guest stayed or booked to stay at the hotel.                |\n",
    "| 10.  | **adults**     | Number of adults        |\n",
    "| 11.  | **children**  | Number of children.                   |\n",
    "| 12.  | **babies**     | Number of babies                   |\n",
    "| 13.  | **meal**      | Type of meal booked. Categories are presented in standard hospitality meal packages: Undefined/SC – no meal package; BB – Bed & Breakfast; HB – Half board (breakfast and one other meal – usually dinner); FB – Full board (breakfast, lunch and dinner) |\n",
    "| 14.  | **country**      | Country of origin. Categories are represented in the ISO 3155–3:2013 format                              |\n",
    "| 15.  | **market_segment**      | Market segment designation. In categories, the term “TA” means “Travel Agents” and “TO” means “Tour Operators”     |\n",
    "| 16.  | **distribution_channel**        | TBooking distribution channel. The term “TA” means “Travel Agents” and “TO” means “Tour Operators”              |\n",
    "| 17.  | **is_repeated_guest**     | Value indicating if the booking name was from a repeated guest (1) or not (0)             |\n",
    "| 18.  | **previous_cancellations**     | Number of previous bookings that were cancelled by the customer prior to the current booking                 |\n",
    "| 19.  | **previous_bookings_not_canceled**       | Number of previous bookings not cancelled by the customer prior to the current booking             |\n",
    "| 20.  | **reserved_room_type**       | Code of room type reserved. Code is presented instead of designation for anonymity reasons.            |\n",
    "| 21.  | **assigned_room_type**       | Code for the type of room assigned to the booking. Sometimes the assigned room type differs from the reserved room type due to hotel operation reasons (e.g. overbooking) or by customer request. Code is presented instead of designation for anonymity reasons.             |\n",
    "| 22.  | **booking_changes**       | Number of changes/amendments made to the booking from the moment the booking was entered on the PMS until the moment of check-in or cancellation             |\n",
    "| 23.  | **deposit_type**       | Indication on if the customer made a deposit to guarantee the booking. This variable can assume three categories: No Deposit – no deposit was made; Non Refund – a deposit was made in the value of the total stay cost; Refundable – a deposit was made with a value under the total cost of stay.             |\n",
    "| 24.  | **agent**       | ID of the travel agency that made the booking            |\n",
    "| 25.  | **company**       | ID of the company/entity that made the booking or responsible for paying the booking. ID is presented instead of designation for anonymity reasons            |\n",
    "| 26.  | **days_in_waiting_list**       | Number of days the booking was in the waiting list before it was confirmed to the customer            |\n",
    "| 27.  | **customer_type**       | Type of booking, assuming one of four categories: Contract - when the booking has an allotment or other type of contract associated to it; Group – when the booking is associated to a group; Transient – when the booking is not part of a group or contract, and is not associated to other transient booking; Transient-party – when the booking is transient, but is associated to at least other transient booking            |\n",
    "| 28.  | **adr**       | Average Daily Rate as defined by dividing the sum of all lodging transactions by the total number of staying nights             |\n",
    "| 29.  | **required_car_parking_spaces**       | Number of car parking spaces required by the customer             |\n",
    "| 30.  | **total_of_special_requests**       | Number of special requests made by the customer (e.g. twin bed or high floor)             |\n",
    "| 31.  | **reservation_status**       | Reservation last status, assuming one of three categories: Canceled – booking was canceled by the customer; Check-Out – customer has checked in but already departed; No-Show – customer did not check-in and did inform the hotel of the reason why             |\n",
    "| 32.  | **reservation_status_date**       | Date at which the last status was set. This variable can be used in conjunction with the ReservationStatus to understand when was the booking canceled or when did the customer checked-out of the hotel             |"
   ]
  },
  {
   "cell_type": "markdown",
   "id": "62caa80f-21c1-426c-835b-75b3362f931d",
   "metadata": {},
   "source": [
    "# Load Dataset"
   ]
  },
  {
   "cell_type": "markdown",
   "id": "efddeb0b-f3c5-4bfa-a2a6-3ef2f78890e1",
   "metadata": {},
   "source": [
    "Here are a few samples from the hotel booking demand dataset."
   ]
  },
  {
   "cell_type": "code",
   "execution_count": 14,
   "id": "9be7411f-318c-4a00-a67e-75545109722e",
   "metadata": {},
   "outputs": [
    {
     "data": {
      "text/html": [
       "<div>\n",
       "<style scoped>\n",
       "    .dataframe tbody tr th:only-of-type {\n",
       "        vertical-align: middle;\n",
       "    }\n",
       "\n",
       "    .dataframe tbody tr th {\n",
       "        vertical-align: top;\n",
       "    }\n",
       "\n",
       "    .dataframe thead th {\n",
       "        text-align: right;\n",
       "    }\n",
       "</style>\n",
       "<table border=\"1\" class=\"dataframe\">\n",
       "  <thead>\n",
       "    <tr style=\"text-align: right;\">\n",
       "      <th></th>\n",
       "      <th>hotel</th>\n",
       "      <th>is_canceled</th>\n",
       "      <th>lead_time</th>\n",
       "      <th>arrival_date_year</th>\n",
       "      <th>arrival_date_month</th>\n",
       "      <th>arrival_date_week_number</th>\n",
       "      <th>arrival_date_day_of_month</th>\n",
       "      <th>stays_in_weekend_nights</th>\n",
       "      <th>stays_in_week_nights</th>\n",
       "      <th>adults</th>\n",
       "      <th>children</th>\n",
       "      <th>babies</th>\n",
       "      <th>meal</th>\n",
       "      <th>country</th>\n",
       "      <th>market_segment</th>\n",
       "      <th>distribution_channel</th>\n",
       "    </tr>\n",
       "  </thead>\n",
       "  <tbody>\n",
       "    <tr>\n",
       "      <th>0</th>\n",
       "      <td>Resort Hotel</td>\n",
       "      <td>0</td>\n",
       "      <td>342</td>\n",
       "      <td>2015</td>\n",
       "      <td>July</td>\n",
       "      <td>27</td>\n",
       "      <td>1</td>\n",
       "      <td>0</td>\n",
       "      <td>0</td>\n",
       "      <td>2</td>\n",
       "      <td>0.0</td>\n",
       "      <td>0</td>\n",
       "      <td>BB</td>\n",
       "      <td>PRT</td>\n",
       "      <td>Direct</td>\n",
       "      <td>Direct</td>\n",
       "    </tr>\n",
       "    <tr>\n",
       "      <th>1</th>\n",
       "      <td>Resort Hotel</td>\n",
       "      <td>0</td>\n",
       "      <td>737</td>\n",
       "      <td>2015</td>\n",
       "      <td>July</td>\n",
       "      <td>27</td>\n",
       "      <td>1</td>\n",
       "      <td>0</td>\n",
       "      <td>0</td>\n",
       "      <td>2</td>\n",
       "      <td>0.0</td>\n",
       "      <td>0</td>\n",
       "      <td>BB</td>\n",
       "      <td>PRT</td>\n",
       "      <td>Direct</td>\n",
       "      <td>Direct</td>\n",
       "    </tr>\n",
       "    <tr>\n",
       "      <th>2</th>\n",
       "      <td>Resort Hotel</td>\n",
       "      <td>0</td>\n",
       "      <td>7</td>\n",
       "      <td>2015</td>\n",
       "      <td>July</td>\n",
       "      <td>27</td>\n",
       "      <td>1</td>\n",
       "      <td>0</td>\n",
       "      <td>1</td>\n",
       "      <td>1</td>\n",
       "      <td>0.0</td>\n",
       "      <td>0</td>\n",
       "      <td>BB</td>\n",
       "      <td>GBR</td>\n",
       "      <td>Direct</td>\n",
       "      <td>Direct</td>\n",
       "    </tr>\n",
       "    <tr>\n",
       "      <th>3</th>\n",
       "      <td>Resort Hotel</td>\n",
       "      <td>0</td>\n",
       "      <td>13</td>\n",
       "      <td>2015</td>\n",
       "      <td>July</td>\n",
       "      <td>27</td>\n",
       "      <td>1</td>\n",
       "      <td>0</td>\n",
       "      <td>1</td>\n",
       "      <td>1</td>\n",
       "      <td>0.0</td>\n",
       "      <td>0</td>\n",
       "      <td>BB</td>\n",
       "      <td>GBR</td>\n",
       "      <td>Corporate</td>\n",
       "      <td>Corporate</td>\n",
       "    </tr>\n",
       "    <tr>\n",
       "      <th>4</th>\n",
       "      <td>Resort Hotel</td>\n",
       "      <td>0</td>\n",
       "      <td>14</td>\n",
       "      <td>2015</td>\n",
       "      <td>July</td>\n",
       "      <td>27</td>\n",
       "      <td>1</td>\n",
       "      <td>0</td>\n",
       "      <td>2</td>\n",
       "      <td>2</td>\n",
       "      <td>0.0</td>\n",
       "      <td>0</td>\n",
       "      <td>BB</td>\n",
       "      <td>GBR</td>\n",
       "      <td>Online TA</td>\n",
       "      <td>TA/TO</td>\n",
       "    </tr>\n",
       "  </tbody>\n",
       "</table>\n",
       "</div>"
      ],
      "text/plain": [
       "          hotel  is_canceled  lead_time  arrival_date_year arrival_date_month  \\\n",
       "0  Resort Hotel            0        342               2015               July   \n",
       "1  Resort Hotel            0        737               2015               July   \n",
       "2  Resort Hotel            0          7               2015               July   \n",
       "3  Resort Hotel            0         13               2015               July   \n",
       "4  Resort Hotel            0         14               2015               July   \n",
       "\n",
       "   arrival_date_week_number  arrival_date_day_of_month  \\\n",
       "0                        27                          1   \n",
       "1                        27                          1   \n",
       "2                        27                          1   \n",
       "3                        27                          1   \n",
       "4                        27                          1   \n",
       "\n",
       "   stays_in_weekend_nights  stays_in_week_nights  adults  children  babies  \\\n",
       "0                        0                     0       2       0.0       0   \n",
       "1                        0                     0       2       0.0       0   \n",
       "2                        0                     1       1       0.0       0   \n",
       "3                        0                     1       1       0.0       0   \n",
       "4                        0                     2       2       0.0       0   \n",
       "\n",
       "  meal country market_segment distribution_channel  \n",
       "0   BB     PRT         Direct               Direct  \n",
       "1   BB     PRT         Direct               Direct  \n",
       "2   BB     GBR         Direct               Direct  \n",
       "3   BB     GBR      Corporate            Corporate  \n",
       "4   BB     GBR      Online TA                TA/TO  "
      ]
     },
     "metadata": {},
     "output_type": "display_data"
    },
    {
     "data": {
      "text/html": [
       "<div>\n",
       "<style scoped>\n",
       "    .dataframe tbody tr th:only-of-type {\n",
       "        vertical-align: middle;\n",
       "    }\n",
       "\n",
       "    .dataframe tbody tr th {\n",
       "        vertical-align: top;\n",
       "    }\n",
       "\n",
       "    .dataframe thead th {\n",
       "        text-align: right;\n",
       "    }\n",
       "</style>\n",
       "<table border=\"1\" class=\"dataframe\">\n",
       "  <thead>\n",
       "    <tr style=\"text-align: right;\">\n",
       "      <th></th>\n",
       "      <th>is_repeated_guest</th>\n",
       "      <th>previous_cancellations</th>\n",
       "      <th>previous_bookings_not_canceled</th>\n",
       "      <th>reserved_room_type</th>\n",
       "      <th>assigned_room_type</th>\n",
       "      <th>booking_changes</th>\n",
       "      <th>deposit_type</th>\n",
       "      <th>agent</th>\n",
       "      <th>company</th>\n",
       "      <th>days_in_waiting_list</th>\n",
       "      <th>customer_type</th>\n",
       "      <th>adr</th>\n",
       "      <th>required_car_parking_spaces</th>\n",
       "      <th>total_of_special_requests</th>\n",
       "      <th>reservation_status</th>\n",
       "      <th>reservation_status_date</th>\n",
       "    </tr>\n",
       "  </thead>\n",
       "  <tbody>\n",
       "    <tr>\n",
       "      <th>119385</th>\n",
       "      <td>0</td>\n",
       "      <td>0</td>\n",
       "      <td>0</td>\n",
       "      <td>A</td>\n",
       "      <td>A</td>\n",
       "      <td>0</td>\n",
       "      <td>No Deposit</td>\n",
       "      <td>394.0</td>\n",
       "      <td>NaN</td>\n",
       "      <td>0</td>\n",
       "      <td>Transient</td>\n",
       "      <td>96.14</td>\n",
       "      <td>0</td>\n",
       "      <td>0</td>\n",
       "      <td>Check-Out</td>\n",
       "      <td>2017-09-06</td>\n",
       "    </tr>\n",
       "    <tr>\n",
       "      <th>119386</th>\n",
       "      <td>0</td>\n",
       "      <td>0</td>\n",
       "      <td>0</td>\n",
       "      <td>E</td>\n",
       "      <td>E</td>\n",
       "      <td>0</td>\n",
       "      <td>No Deposit</td>\n",
       "      <td>9.0</td>\n",
       "      <td>NaN</td>\n",
       "      <td>0</td>\n",
       "      <td>Transient</td>\n",
       "      <td>225.43</td>\n",
       "      <td>0</td>\n",
       "      <td>2</td>\n",
       "      <td>Check-Out</td>\n",
       "      <td>2017-09-07</td>\n",
       "    </tr>\n",
       "    <tr>\n",
       "      <th>119387</th>\n",
       "      <td>0</td>\n",
       "      <td>0</td>\n",
       "      <td>0</td>\n",
       "      <td>D</td>\n",
       "      <td>D</td>\n",
       "      <td>0</td>\n",
       "      <td>No Deposit</td>\n",
       "      <td>9.0</td>\n",
       "      <td>NaN</td>\n",
       "      <td>0</td>\n",
       "      <td>Transient</td>\n",
       "      <td>157.71</td>\n",
       "      <td>0</td>\n",
       "      <td>4</td>\n",
       "      <td>Check-Out</td>\n",
       "      <td>2017-09-07</td>\n",
       "    </tr>\n",
       "    <tr>\n",
       "      <th>119388</th>\n",
       "      <td>0</td>\n",
       "      <td>0</td>\n",
       "      <td>0</td>\n",
       "      <td>A</td>\n",
       "      <td>A</td>\n",
       "      <td>0</td>\n",
       "      <td>No Deposit</td>\n",
       "      <td>89.0</td>\n",
       "      <td>NaN</td>\n",
       "      <td>0</td>\n",
       "      <td>Transient</td>\n",
       "      <td>104.40</td>\n",
       "      <td>0</td>\n",
       "      <td>0</td>\n",
       "      <td>Check-Out</td>\n",
       "      <td>2017-09-07</td>\n",
       "    </tr>\n",
       "    <tr>\n",
       "      <th>119389</th>\n",
       "      <td>0</td>\n",
       "      <td>0</td>\n",
       "      <td>0</td>\n",
       "      <td>A</td>\n",
       "      <td>A</td>\n",
       "      <td>0</td>\n",
       "      <td>No Deposit</td>\n",
       "      <td>9.0</td>\n",
       "      <td>NaN</td>\n",
       "      <td>0</td>\n",
       "      <td>Transient</td>\n",
       "      <td>151.20</td>\n",
       "      <td>0</td>\n",
       "      <td>2</td>\n",
       "      <td>Check-Out</td>\n",
       "      <td>2017-09-07</td>\n",
       "    </tr>\n",
       "  </tbody>\n",
       "</table>\n",
       "</div>"
      ],
      "text/plain": [
       "        is_repeated_guest  previous_cancellations  \\\n",
       "119385                  0                       0   \n",
       "119386                  0                       0   \n",
       "119387                  0                       0   \n",
       "119388                  0                       0   \n",
       "119389                  0                       0   \n",
       "\n",
       "        previous_bookings_not_canceled reserved_room_type assigned_room_type  \\\n",
       "119385                               0                  A                  A   \n",
       "119386                               0                  E                  E   \n",
       "119387                               0                  D                  D   \n",
       "119388                               0                  A                  A   \n",
       "119389                               0                  A                  A   \n",
       "\n",
       "        booking_changes deposit_type  agent  company  days_in_waiting_list  \\\n",
       "119385                0   No Deposit  394.0      NaN                     0   \n",
       "119386                0   No Deposit    9.0      NaN                     0   \n",
       "119387                0   No Deposit    9.0      NaN                     0   \n",
       "119388                0   No Deposit   89.0      NaN                     0   \n",
       "119389                0   No Deposit    9.0      NaN                     0   \n",
       "\n",
       "       customer_type     adr  required_car_parking_spaces  \\\n",
       "119385     Transient   96.14                            0   \n",
       "119386     Transient  225.43                            0   \n",
       "119387     Transient  157.71                            0   \n",
       "119388     Transient  104.40                            0   \n",
       "119389     Transient  151.20                            0   \n",
       "\n",
       "        total_of_special_requests reservation_status reservation_status_date  \n",
       "119385                          0          Check-Out              2017-09-06  \n",
       "119386                          2          Check-Out              2017-09-07  \n",
       "119387                          4          Check-Out              2017-09-07  \n",
       "119388                          0          Check-Out              2017-09-07  \n",
       "119389                          2          Check-Out              2017-09-07  "
      ]
     },
     "metadata": {},
     "output_type": "display_data"
    }
   ],
   "source": [
    "path = kagglehub.dataset_download(\"jessemostipak/hotel-booking-demand\")\n",
    "\n",
    "raw_data = pd.read_csv(os.path.join(path, \"hotel_bookings.csv\"))\n",
    "display(raw_data.head().iloc[:, :16], raw_data.tail().iloc[:, 16:])"
   ]
  },
  {
   "cell_type": "markdown",
   "id": "886111cf-10bd-4c28-9e5a-f1d3433a545b",
   "metadata": {},
   "source": [
    "# Data Understanding and Cleaning"
   ]
  },
  {
   "cell_type": "markdown",
   "id": "8ff34a4c-0fc9-4bf1-b9ae-f65f84fd3320",
   "metadata": {},
   "source": [
    "## Column Information"
   ]
  },
  {
   "cell_type": "code",
   "execution_count": 17,
   "id": "f50f782f-2860-4684-87cf-64b303c89083",
   "metadata": {},
   "outputs": [
    {
     "name": "stdout",
     "output_type": "stream",
     "text": [
      "<class 'pandas.core.frame.DataFrame'>\n",
      "RangeIndex: 119390 entries, 0 to 119389\n",
      "Data columns (total 32 columns):\n",
      " #   Column                          Non-Null Count   Dtype  \n",
      "---  ------                          --------------   -----  \n",
      " 0   hotel                           119390 non-null  object \n",
      " 1   is_canceled                     119390 non-null  int64  \n",
      " 2   lead_time                       119390 non-null  int64  \n",
      " 3   arrival_date_year               119390 non-null  int64  \n",
      " 4   arrival_date_month              119390 non-null  object \n",
      " 5   arrival_date_week_number        119390 non-null  int64  \n",
      " 6   arrival_date_day_of_month       119390 non-null  int64  \n",
      " 7   stays_in_weekend_nights         119390 non-null  int64  \n",
      " 8   stays_in_week_nights            119390 non-null  int64  \n",
      " 9   adults                          119390 non-null  int64  \n",
      " 10  children                        119386 non-null  float64\n",
      " 11  babies                          119390 non-null  int64  \n",
      " 12  meal                            119390 non-null  object \n",
      " 13  country                         118902 non-null  object \n",
      " 14  market_segment                  119390 non-null  object \n",
      " 15  distribution_channel            119390 non-null  object \n",
      " 16  is_repeated_guest               119390 non-null  int64  \n",
      " 17  previous_cancellations          119390 non-null  int64  \n",
      " 18  previous_bookings_not_canceled  119390 non-null  int64  \n",
      " 19  reserved_room_type              119390 non-null  object \n",
      " 20  assigned_room_type              119390 non-null  object \n",
      " 21  booking_changes                 119390 non-null  int64  \n",
      " 22  deposit_type                    119390 non-null  object \n",
      " 23  agent                           103050 non-null  float64\n",
      " 24  company                         6797 non-null    float64\n",
      " 25  days_in_waiting_list            119390 non-null  int64  \n",
      " 26  customer_type                   119390 non-null  object \n",
      " 27  adr                             119390 non-null  float64\n",
      " 28  required_car_parking_spaces     119390 non-null  int64  \n",
      " 29  total_of_special_requests       119390 non-null  int64  \n",
      " 30  reservation_status              119390 non-null  object \n",
      " 31  reservation_status_date         119390 non-null  object \n",
      "dtypes: float64(4), int64(16), object(12)\n",
      "memory usage: 29.1+ MB\n"
     ]
    }
   ],
   "source": [
    "raw_data.info()"
   ]
  },
  {
   "cell_type": "code",
   "execution_count": 18,
   "id": "78edec37-66b6-4b58-a93e-870d6f0ead42",
   "metadata": {},
   "outputs": [
    {
     "data": {
      "text/plain": [
       "hotel                                  0\n",
       "is_canceled                            0\n",
       "lead_time                              0\n",
       "arrival_date_year                      0\n",
       "arrival_date_month                     0\n",
       "arrival_date_week_number               0\n",
       "arrival_date_day_of_month              0\n",
       "stays_in_weekend_nights                0\n",
       "stays_in_week_nights                   0\n",
       "adults                                 0\n",
       "children                               4\n",
       "babies                                 0\n",
       "meal                                   0\n",
       "country                              488\n",
       "market_segment                         0\n",
       "distribution_channel                   0\n",
       "is_repeated_guest                      0\n",
       "previous_cancellations                 0\n",
       "previous_bookings_not_canceled         0\n",
       "reserved_room_type                     0\n",
       "assigned_room_type                     0\n",
       "booking_changes                        0\n",
       "deposit_type                           0\n",
       "agent                              16340\n",
       "company                           112593\n",
       "days_in_waiting_list                   0\n",
       "customer_type                          0\n",
       "adr                                    0\n",
       "required_car_parking_spaces            0\n",
       "total_of_special_requests              0\n",
       "reservation_status                     0\n",
       "reservation_status_date                0\n",
       "dtype: int64"
      ]
     },
     "execution_count": 18,
     "metadata": {},
     "output_type": "execute_result"
    }
   ],
   "source": [
    "raw_data.isna().sum()"
   ]
  },
  {
   "cell_type": "markdown",
   "id": "fd363774-e677-46af-bed6-cc5d12911672",
   "metadata": {},
   "source": [
    "## Statistical Description"
   ]
  },
  {
   "cell_type": "code",
   "execution_count": 20,
   "id": "15a053dc-abef-4f3d-ad30-f90bdc58e94c",
   "metadata": {},
   "outputs": [
    {
     "data": {
      "text/html": [
       "<div>\n",
       "<style scoped>\n",
       "    .dataframe tbody tr th:only-of-type {\n",
       "        vertical-align: middle;\n",
       "    }\n",
       "\n",
       "    .dataframe tbody tr th {\n",
       "        vertical-align: top;\n",
       "    }\n",
       "\n",
       "    .dataframe thead th {\n",
       "        text-align: right;\n",
       "    }\n",
       "</style>\n",
       "<table border=\"1\" class=\"dataframe\">\n",
       "  <thead>\n",
       "    <tr style=\"text-align: right;\">\n",
       "      <th></th>\n",
       "      <th>is_canceled</th>\n",
       "      <th>lead_time</th>\n",
       "      <th>arrival_date_year</th>\n",
       "      <th>arrival_date_week_number</th>\n",
       "      <th>arrival_date_day_of_month</th>\n",
       "      <th>stays_in_weekend_nights</th>\n",
       "      <th>stays_in_week_nights</th>\n",
       "      <th>adults</th>\n",
       "      <th>children</th>\n",
       "      <th>babies</th>\n",
       "      <th>is_repeated_guest</th>\n",
       "      <th>previous_cancellations</th>\n",
       "      <th>previous_bookings_not_canceled</th>\n",
       "      <th>booking_changes</th>\n",
       "      <th>agent</th>\n",
       "      <th>company</th>\n",
       "      <th>days_in_waiting_list</th>\n",
       "      <th>adr</th>\n",
       "      <th>required_car_parking_spaces</th>\n",
       "      <th>total_of_special_requests</th>\n",
       "    </tr>\n",
       "  </thead>\n",
       "  <tbody>\n",
       "    <tr>\n",
       "      <th>mean</th>\n",
       "      <td>0.370416</td>\n",
       "      <td>104.011416</td>\n",
       "      <td>2016.156554</td>\n",
       "      <td>27.165173</td>\n",
       "      <td>15.798241</td>\n",
       "      <td>0.927599</td>\n",
       "      <td>2.500302</td>\n",
       "      <td>1.856403</td>\n",
       "      <td>0.103890</td>\n",
       "      <td>0.007949</td>\n",
       "      <td>0.031912</td>\n",
       "      <td>0.087118</td>\n",
       "      <td>0.137097</td>\n",
       "      <td>0.221124</td>\n",
       "      <td>86.693382</td>\n",
       "      <td>189.266735</td>\n",
       "      <td>2.321149</td>\n",
       "      <td>101.831122</td>\n",
       "      <td>0.062518</td>\n",
       "      <td>0.571363</td>\n",
       "    </tr>\n",
       "    <tr>\n",
       "      <th>std</th>\n",
       "      <td>0.482918</td>\n",
       "      <td>106.863097</td>\n",
       "      <td>0.707476</td>\n",
       "      <td>13.605138</td>\n",
       "      <td>8.780829</td>\n",
       "      <td>0.998613</td>\n",
       "      <td>1.908286</td>\n",
       "      <td>0.579261</td>\n",
       "      <td>0.398561</td>\n",
       "      <td>0.097436</td>\n",
       "      <td>0.175767</td>\n",
       "      <td>0.844336</td>\n",
       "      <td>1.497437</td>\n",
       "      <td>0.652306</td>\n",
       "      <td>110.774548</td>\n",
       "      <td>131.655015</td>\n",
       "      <td>17.594721</td>\n",
       "      <td>50.535790</td>\n",
       "      <td>0.245291</td>\n",
       "      <td>0.792798</td>\n",
       "    </tr>\n",
       "    <tr>\n",
       "      <th>min</th>\n",
       "      <td>0.000000</td>\n",
       "      <td>0.000000</td>\n",
       "      <td>2015.000000</td>\n",
       "      <td>1.000000</td>\n",
       "      <td>1.000000</td>\n",
       "      <td>0.000000</td>\n",
       "      <td>0.000000</td>\n",
       "      <td>0.000000</td>\n",
       "      <td>0.000000</td>\n",
       "      <td>0.000000</td>\n",
       "      <td>0.000000</td>\n",
       "      <td>0.000000</td>\n",
       "      <td>0.000000</td>\n",
       "      <td>0.000000</td>\n",
       "      <td>1.000000</td>\n",
       "      <td>6.000000</td>\n",
       "      <td>0.000000</td>\n",
       "      <td>-6.380000</td>\n",
       "      <td>0.000000</td>\n",
       "      <td>0.000000</td>\n",
       "    </tr>\n",
       "    <tr>\n",
       "      <th>25%</th>\n",
       "      <td>0.000000</td>\n",
       "      <td>18.000000</td>\n",
       "      <td>2016.000000</td>\n",
       "      <td>16.000000</td>\n",
       "      <td>8.000000</td>\n",
       "      <td>0.000000</td>\n",
       "      <td>1.000000</td>\n",
       "      <td>2.000000</td>\n",
       "      <td>0.000000</td>\n",
       "      <td>0.000000</td>\n",
       "      <td>0.000000</td>\n",
       "      <td>0.000000</td>\n",
       "      <td>0.000000</td>\n",
       "      <td>0.000000</td>\n",
       "      <td>9.000000</td>\n",
       "      <td>62.000000</td>\n",
       "      <td>0.000000</td>\n",
       "      <td>69.290000</td>\n",
       "      <td>0.000000</td>\n",
       "      <td>0.000000</td>\n",
       "    </tr>\n",
       "    <tr>\n",
       "      <th>50%</th>\n",
       "      <td>0.000000</td>\n",
       "      <td>69.000000</td>\n",
       "      <td>2016.000000</td>\n",
       "      <td>28.000000</td>\n",
       "      <td>16.000000</td>\n",
       "      <td>1.000000</td>\n",
       "      <td>2.000000</td>\n",
       "      <td>2.000000</td>\n",
       "      <td>0.000000</td>\n",
       "      <td>0.000000</td>\n",
       "      <td>0.000000</td>\n",
       "      <td>0.000000</td>\n",
       "      <td>0.000000</td>\n",
       "      <td>0.000000</td>\n",
       "      <td>14.000000</td>\n",
       "      <td>179.000000</td>\n",
       "      <td>0.000000</td>\n",
       "      <td>94.575000</td>\n",
       "      <td>0.000000</td>\n",
       "      <td>0.000000</td>\n",
       "    </tr>\n",
       "    <tr>\n",
       "      <th>75%</th>\n",
       "      <td>1.000000</td>\n",
       "      <td>160.000000</td>\n",
       "      <td>2017.000000</td>\n",
       "      <td>38.000000</td>\n",
       "      <td>23.000000</td>\n",
       "      <td>2.000000</td>\n",
       "      <td>3.000000</td>\n",
       "      <td>2.000000</td>\n",
       "      <td>0.000000</td>\n",
       "      <td>0.000000</td>\n",
       "      <td>0.000000</td>\n",
       "      <td>0.000000</td>\n",
       "      <td>0.000000</td>\n",
       "      <td>0.000000</td>\n",
       "      <td>229.000000</td>\n",
       "      <td>270.000000</td>\n",
       "      <td>0.000000</td>\n",
       "      <td>126.000000</td>\n",
       "      <td>0.000000</td>\n",
       "      <td>1.000000</td>\n",
       "    </tr>\n",
       "    <tr>\n",
       "      <th>max</th>\n",
       "      <td>1.000000</td>\n",
       "      <td>737.000000</td>\n",
       "      <td>2017.000000</td>\n",
       "      <td>53.000000</td>\n",
       "      <td>31.000000</td>\n",
       "      <td>19.000000</td>\n",
       "      <td>50.000000</td>\n",
       "      <td>55.000000</td>\n",
       "      <td>10.000000</td>\n",
       "      <td>10.000000</td>\n",
       "      <td>1.000000</td>\n",
       "      <td>26.000000</td>\n",
       "      <td>72.000000</td>\n",
       "      <td>21.000000</td>\n",
       "      <td>535.000000</td>\n",
       "      <td>543.000000</td>\n",
       "      <td>391.000000</td>\n",
       "      <td>5400.000000</td>\n",
       "      <td>8.000000</td>\n",
       "      <td>5.000000</td>\n",
       "    </tr>\n",
       "  </tbody>\n",
       "</table>\n",
       "</div>"
      ],
      "text/plain": [
       "      is_canceled   lead_time  arrival_date_year  arrival_date_week_number  \\\n",
       "mean     0.370416  104.011416        2016.156554                 27.165173   \n",
       "std      0.482918  106.863097           0.707476                 13.605138   \n",
       "min      0.000000    0.000000        2015.000000                  1.000000   \n",
       "25%      0.000000   18.000000        2016.000000                 16.000000   \n",
       "50%      0.000000   69.000000        2016.000000                 28.000000   \n",
       "75%      1.000000  160.000000        2017.000000                 38.000000   \n",
       "max      1.000000  737.000000        2017.000000                 53.000000   \n",
       "\n",
       "      arrival_date_day_of_month  stays_in_weekend_nights  \\\n",
       "mean                  15.798241                 0.927599   \n",
       "std                    8.780829                 0.998613   \n",
       "min                    1.000000                 0.000000   \n",
       "25%                    8.000000                 0.000000   \n",
       "50%                   16.000000                 1.000000   \n",
       "75%                   23.000000                 2.000000   \n",
       "max                   31.000000                19.000000   \n",
       "\n",
       "      stays_in_week_nights     adults   children     babies  \\\n",
       "mean              2.500302   1.856403   0.103890   0.007949   \n",
       "std               1.908286   0.579261   0.398561   0.097436   \n",
       "min               0.000000   0.000000   0.000000   0.000000   \n",
       "25%               1.000000   2.000000   0.000000   0.000000   \n",
       "50%               2.000000   2.000000   0.000000   0.000000   \n",
       "75%               3.000000   2.000000   0.000000   0.000000   \n",
       "max              50.000000  55.000000  10.000000  10.000000   \n",
       "\n",
       "      is_repeated_guest  previous_cancellations  \\\n",
       "mean           0.031912                0.087118   \n",
       "std            0.175767                0.844336   \n",
       "min            0.000000                0.000000   \n",
       "25%            0.000000                0.000000   \n",
       "50%            0.000000                0.000000   \n",
       "75%            0.000000                0.000000   \n",
       "max            1.000000               26.000000   \n",
       "\n",
       "      previous_bookings_not_canceled  booking_changes       agent     company  \\\n",
       "mean                        0.137097         0.221124   86.693382  189.266735   \n",
       "std                         1.497437         0.652306  110.774548  131.655015   \n",
       "min                         0.000000         0.000000    1.000000    6.000000   \n",
       "25%                         0.000000         0.000000    9.000000   62.000000   \n",
       "50%                         0.000000         0.000000   14.000000  179.000000   \n",
       "75%                         0.000000         0.000000  229.000000  270.000000   \n",
       "max                        72.000000        21.000000  535.000000  543.000000   \n",
       "\n",
       "      days_in_waiting_list          adr  required_car_parking_spaces  \\\n",
       "mean              2.321149   101.831122                     0.062518   \n",
       "std              17.594721    50.535790                     0.245291   \n",
       "min               0.000000    -6.380000                     0.000000   \n",
       "25%               0.000000    69.290000                     0.000000   \n",
       "50%               0.000000    94.575000                     0.000000   \n",
       "75%               0.000000   126.000000                     0.000000   \n",
       "max             391.000000  5400.000000                     8.000000   \n",
       "\n",
       "      total_of_special_requests  \n",
       "mean                   0.571363  \n",
       "std                    0.792798  \n",
       "min                    0.000000  \n",
       "25%                    0.000000  \n",
       "50%                    0.000000  \n",
       "75%                    1.000000  \n",
       "max                    5.000000  "
      ]
     },
     "metadata": {},
     "output_type": "display_data"
    },
    {
     "data": {
      "text/html": [
       "<div>\n",
       "<style scoped>\n",
       "    .dataframe tbody tr th:only-of-type {\n",
       "        vertical-align: middle;\n",
       "    }\n",
       "\n",
       "    .dataframe tbody tr th {\n",
       "        vertical-align: top;\n",
       "    }\n",
       "\n",
       "    .dataframe thead th {\n",
       "        text-align: right;\n",
       "    }\n",
       "</style>\n",
       "<table border=\"1\" class=\"dataframe\">\n",
       "  <thead>\n",
       "    <tr style=\"text-align: right;\">\n",
       "      <th></th>\n",
       "      <th>hotel</th>\n",
       "      <th>arrival_date_month</th>\n",
       "      <th>meal</th>\n",
       "      <th>country</th>\n",
       "      <th>market_segment</th>\n",
       "      <th>distribution_channel</th>\n",
       "      <th>reserved_room_type</th>\n",
       "      <th>assigned_room_type</th>\n",
       "      <th>deposit_type</th>\n",
       "      <th>customer_type</th>\n",
       "      <th>reservation_status</th>\n",
       "      <th>reservation_status_date</th>\n",
       "    </tr>\n",
       "  </thead>\n",
       "  <tbody>\n",
       "    <tr>\n",
       "      <th>count</th>\n",
       "      <td>119390</td>\n",
       "      <td>119390</td>\n",
       "      <td>119390</td>\n",
       "      <td>118902</td>\n",
       "      <td>119390</td>\n",
       "      <td>119390</td>\n",
       "      <td>119390</td>\n",
       "      <td>119390</td>\n",
       "      <td>119390</td>\n",
       "      <td>119390</td>\n",
       "      <td>119390</td>\n",
       "      <td>119390</td>\n",
       "    </tr>\n",
       "    <tr>\n",
       "      <th>unique</th>\n",
       "      <td>2</td>\n",
       "      <td>12</td>\n",
       "      <td>5</td>\n",
       "      <td>177</td>\n",
       "      <td>8</td>\n",
       "      <td>5</td>\n",
       "      <td>10</td>\n",
       "      <td>12</td>\n",
       "      <td>3</td>\n",
       "      <td>4</td>\n",
       "      <td>3</td>\n",
       "      <td>926</td>\n",
       "    </tr>\n",
       "    <tr>\n",
       "      <th>freq</th>\n",
       "      <td>79330</td>\n",
       "      <td>13877</td>\n",
       "      <td>92310</td>\n",
       "      <td>48590</td>\n",
       "      <td>56477</td>\n",
       "      <td>97870</td>\n",
       "      <td>85994</td>\n",
       "      <td>74053</td>\n",
       "      <td>104641</td>\n",
       "      <td>89613</td>\n",
       "      <td>75166</td>\n",
       "      <td>1461</td>\n",
       "    </tr>\n",
       "  </tbody>\n",
       "</table>\n",
       "</div>"
      ],
      "text/plain": [
       "         hotel arrival_date_month    meal country market_segment  \\\n",
       "count   119390             119390  119390  118902         119390   \n",
       "unique       2                 12       5     177              8   \n",
       "freq     79330              13877   92310   48590          56477   \n",
       "\n",
       "       distribution_channel reserved_room_type assigned_room_type  \\\n",
       "count                119390             119390             119390   \n",
       "unique                    5                 10                 12   \n",
       "freq                  97870              85994              74053   \n",
       "\n",
       "       deposit_type customer_type reservation_status reservation_status_date  \n",
       "count        119390        119390             119390                  119390  \n",
       "unique            3             4                  3                     926  \n",
       "freq         104641         89613              75166                    1461  "
      ]
     },
     "metadata": {},
     "output_type": "display_data"
    }
   ],
   "source": [
    "desc = raw_data.describe()\n",
    "desc_object = raw_data.describe(include=\"object\")\n",
    "\n",
    "display(desc.drop(index=\"count\"), desc_object.drop(index=\"top\"))"
   ]
  },
  {
   "cell_type": "markdown",
   "id": "e344cb95-c27d-4537-8395-1775659307f0",
   "metadata": {},
   "source": [
    "## Unique Data Information"
   ]
  },
  {
   "cell_type": "code",
   "execution_count": 22,
   "id": "cde5f9b2-6a75-4d1c-b0ec-a6c0924fa0f1",
   "metadata": {},
   "outputs": [
    {
     "data": {
      "text/html": [
       "<div>\n",
       "<style scoped>\n",
       "    .dataframe tbody tr th:only-of-type {\n",
       "        vertical-align: middle;\n",
       "    }\n",
       "\n",
       "    .dataframe tbody tr th {\n",
       "        vertical-align: top;\n",
       "    }\n",
       "\n",
       "    .dataframe thead th {\n",
       "        text-align: right;\n",
       "    }\n",
       "</style>\n",
       "<table border=\"1\" class=\"dataframe\">\n",
       "  <thead>\n",
       "    <tr style=\"text-align: right;\">\n",
       "      <th></th>\n",
       "      <th>Column Name</th>\n",
       "      <th>Unique Value</th>\n",
       "    </tr>\n",
       "  </thead>\n",
       "  <tbody>\n",
       "    <tr>\n",
       "      <th>0</th>\n",
       "      <td>hotel</td>\n",
       "      <td>[Resort Hotel, City Hotel]</td>\n",
       "    </tr>\n",
       "    <tr>\n",
       "      <th>1</th>\n",
       "      <td>arrival_date_month</td>\n",
       "      <td>[July, August, September, October, November, December, January, February, March, April, May, June]</td>\n",
       "    </tr>\n",
       "    <tr>\n",
       "      <th>2</th>\n",
       "      <td>meal</td>\n",
       "      <td>[BB, FB, HB, SC, Undefined]</td>\n",
       "    </tr>\n",
       "    <tr>\n",
       "      <th>3</th>\n",
       "      <td>country</td>\n",
       "      <td>[PRT, GBR, USA, ESP, IRL, FRA, nan, ROU, NOR, OMN, ARG, POL, DEU, BEL, CHE, CN, GRC, ITA, NLD, DNK, RUS, SWE, AUS, EST, CZE, BRA, FIN, MOZ, BWA, LUX, SVN, ALB, IND, CHN, MEX, MAR, UKR, SMR, LVA, PRI, SRB, CHL, AUT, BLR, LTU, TUR, ZAF, AGO, ISR, CYM, ZMB, CPV, ZWE, DZA, KOR, CRI, HUN, ARE, TUN, JAM, HRV, HKG, IRN, GEO, AND, GIB, URY, JEY, CAF, CYP, COL, GGY, KWT, NGA, MDV, VEN, SVK, FJI, KAZ, PAK, IDN, LBN, PHL, SEN, SYC, AZE, BHR, NZL, THA, DOM, MKD, MYS, ARM, JPN, LKA, CUB, CMR, BIH, MUS, COM, ...]</td>\n",
       "    </tr>\n",
       "    <tr>\n",
       "      <th>4</th>\n",
       "      <td>market_segment</td>\n",
       "      <td>[Direct, Corporate, Online TA, Offline TA/TO, Complementary, Groups, Undefined, Aviation]</td>\n",
       "    </tr>\n",
       "    <tr>\n",
       "      <th>5</th>\n",
       "      <td>distribution_channel</td>\n",
       "      <td>[Direct, Corporate, TA/TO, Undefined, GDS]</td>\n",
       "    </tr>\n",
       "    <tr>\n",
       "      <th>6</th>\n",
       "      <td>reserved_room_type</td>\n",
       "      <td>[C, A, D, E, G, F, H, L, P, B]</td>\n",
       "    </tr>\n",
       "    <tr>\n",
       "      <th>7</th>\n",
       "      <td>assigned_room_type</td>\n",
       "      <td>[C, A, D, E, G, F, I, B, H, P, L, K]</td>\n",
       "    </tr>\n",
       "    <tr>\n",
       "      <th>8</th>\n",
       "      <td>deposit_type</td>\n",
       "      <td>[No Deposit, Refundable, Non Refund]</td>\n",
       "    </tr>\n",
       "    <tr>\n",
       "      <th>9</th>\n",
       "      <td>customer_type</td>\n",
       "      <td>[Transient, Contract, Transient-Party, Group]</td>\n",
       "    </tr>\n",
       "    <tr>\n",
       "      <th>10</th>\n",
       "      <td>reservation_status</td>\n",
       "      <td>[Check-Out, Canceled, No-Show]</td>\n",
       "    </tr>\n",
       "    <tr>\n",
       "      <th>11</th>\n",
       "      <td>reservation_status_date</td>\n",
       "      <td>[2015-07-01, 2015-07-02, 2015-07-03, 2015-05-06, 2015-04-22, 2015-06-23, 2015-07-05, 2015-07-06, 2015-07-07, 2015-07-08, 2015-05-11, 2015-07-15, 2015-07-16, 2015-05-29, 2015-05-19, 2015-06-19, 2015-05-23, 2015-05-18, 2015-07-09, 2015-06-02, 2015-07-13, 2015-07-04, 2015-06-29, 2015-06-16, 2015-06-18, 2015-06-12, 2015-06-09, 2015-05-26, 2015-07-11, 2015-07-12, 2015-07-17, 2015-04-15, 2015-05-13, 2015-07-10, 2015-05-20, 2015-05-12, 2015-07-14, 2015-06-17, 2015-05-01, 2015-03-30, 2015-07-19, 2015-06-03, 2015-06-26, 2015-05-14, 2015-07-20, 2015-05-07, 2015-05-28, 2015-04-13, 2015-03-25, 2015-07-21, 2015-06-27, 2015-07-18, 2015-07-23, 2015-06-08, 2015-06-22, 2015-06-24, 2015-03-05, 2015-06-01, 2015-04-24, 2015-07-22, 2015-05-27, 2015-04-06, 2015-04-11, 2015-07-25, 2015-07-28, 2015-07-29, 2015-06-25, 2015-07-24, 2015-06-05, 2015-06-30, 2015-06-13, 2015-06-11, 2015-07-30, 2015-07-27, 2015-04-29, 2015-06-04, 2015-07-26, 2015-08-01, 2015-08-02, 2015-06-15, 2015-04-23, 2015-07-31, 2015-05-25, 2015-08-03, 2015-04-17, 2015-08-04, 2015-08-06, 2015-05-15, 2015-05-09, 2015-03-17, 2015-05-22, 2015-08-07, 2015-04-04, 2015-08-05, 2015-08-08, 2015-08-10, 2015-05-04, 2015-06-06, 2015-08-09, 2015-08-15, ...]</td>\n",
       "    </tr>\n",
       "  </tbody>\n",
       "</table>\n",
       "</div>"
      ],
      "text/plain": [
       "                Column Name  \\\n",
       "0                     hotel   \n",
       "1        arrival_date_month   \n",
       "2                      meal   \n",
       "3                   country   \n",
       "4            market_segment   \n",
       "5      distribution_channel   \n",
       "6        reserved_room_type   \n",
       "7        assigned_room_type   \n",
       "8              deposit_type   \n",
       "9             customer_type   \n",
       "10       reservation_status   \n",
       "11  reservation_status_date   \n",
       "\n",
       "                                                                                                                                                                                                                                                                                                                                                                                                                                                                                                                                                                                                                                                                                                                                                                                                                                                                                                                                                                                                                                                                                                                                                                                                                                             Unique Value  \n",
       "0                                                                                                                                                                                                                                                                                                                                                                                                                                                                                                                                                                                                                                                                                                                                                                                                                                                                                                                                                                                                                                                                                                                                                                                                                              [Resort Hotel, City Hotel]  \n",
       "1                                                                                                                                                                                                                                                                                                                                                                                                                                                                                                                                                                                                                                                                                                                                                                                                                                                                                                                                                                                                                                                                                                                                                      [July, August, September, October, November, December, January, February, March, April, May, June]  \n",
       "2                                                                                                                                                                                                                                                                                                                                                                                                                                                                                                                                                                                                                                                                                                                                                                                                                                                                                                                                                                                                                                                                                                                                                                                                                             [BB, FB, HB, SC, Undefined]  \n",
       "3                                                                                                                                                                                                                                                                                                                                                                                                                                                                                                                                                                                                                                                                                                                                [PRT, GBR, USA, ESP, IRL, FRA, nan, ROU, NOR, OMN, ARG, POL, DEU, BEL, CHE, CN, GRC, ITA, NLD, DNK, RUS, SWE, AUS, EST, CZE, BRA, FIN, MOZ, BWA, LUX, SVN, ALB, IND, CHN, MEX, MAR, UKR, SMR, LVA, PRI, SRB, CHL, AUT, BLR, LTU, TUR, ZAF, AGO, ISR, CYM, ZMB, CPV, ZWE, DZA, KOR, CRI, HUN, ARE, TUN, JAM, HRV, HKG, IRN, GEO, AND, GIB, URY, JEY, CAF, CYP, COL, GGY, KWT, NGA, MDV, VEN, SVK, FJI, KAZ, PAK, IDN, LBN, PHL, SEN, SYC, AZE, BHR, NZL, THA, DOM, MKD, MYS, ARM, JPN, LKA, CUB, CMR, BIH, MUS, COM, ...]  \n",
       "4                                                                                                                                                                                                                                                                                                                                                                                                                                                                                                                                                                                                                                                                                                                                                                                                                                                                                                                                                                                                                                                                                                                                                               [Direct, Corporate, Online TA, Offline TA/TO, Complementary, Groups, Undefined, Aviation]  \n",
       "5                                                                                                                                                                                                                                                                                                                                                                                                                                                                                                                                                                                                                                                                                                                                                                                                                                                                                                                                                                                                                                                                                                                                                                                                              [Direct, Corporate, TA/TO, Undefined, GDS]  \n",
       "6                                                                                                                                                                                                                                                                                                                                                                                                                                                                                                                                                                                                                                                                                                                                                                                                                                                                                                                                                                                                                                                                                                                                                                                                                          [C, A, D, E, G, F, H, L, P, B]  \n",
       "7                                                                                                                                                                                                                                                                                                                                                                                                                                                                                                                                                                                                                                                                                                                                                                                                                                                                                                                                                                                                                                                                                                                                                                                                                    [C, A, D, E, G, F, I, B, H, P, L, K]  \n",
       "8                                                                                                                                                                                                                                                                                                                                                                                                                                                                                                                                                                                                                                                                                                                                                                                                                                                                                                                                                                                                                                                                                                                                                                                                                    [No Deposit, Refundable, Non Refund]  \n",
       "9                                                                                                                                                                                                                                                                                                                                                                                                                                                                                                                                                                                                                                                                                                                                                                                                                                                                                                                                                                                                                                                                                                                                                                                                           [Transient, Contract, Transient-Party, Group]  \n",
       "10                                                                                                                                                                                                                                                                                                                                                                                                                                                                                                                                                                                                                                                                                                                                                                                                                                                                                                                                                                                                                                                                                                                                                                                                                         [Check-Out, Canceled, No-Show]  \n",
       "11  [2015-07-01, 2015-07-02, 2015-07-03, 2015-05-06, 2015-04-22, 2015-06-23, 2015-07-05, 2015-07-06, 2015-07-07, 2015-07-08, 2015-05-11, 2015-07-15, 2015-07-16, 2015-05-29, 2015-05-19, 2015-06-19, 2015-05-23, 2015-05-18, 2015-07-09, 2015-06-02, 2015-07-13, 2015-07-04, 2015-06-29, 2015-06-16, 2015-06-18, 2015-06-12, 2015-06-09, 2015-05-26, 2015-07-11, 2015-07-12, 2015-07-17, 2015-04-15, 2015-05-13, 2015-07-10, 2015-05-20, 2015-05-12, 2015-07-14, 2015-06-17, 2015-05-01, 2015-03-30, 2015-07-19, 2015-06-03, 2015-06-26, 2015-05-14, 2015-07-20, 2015-05-07, 2015-05-28, 2015-04-13, 2015-03-25, 2015-07-21, 2015-06-27, 2015-07-18, 2015-07-23, 2015-06-08, 2015-06-22, 2015-06-24, 2015-03-05, 2015-06-01, 2015-04-24, 2015-07-22, 2015-05-27, 2015-04-06, 2015-04-11, 2015-07-25, 2015-07-28, 2015-07-29, 2015-06-25, 2015-07-24, 2015-06-05, 2015-06-30, 2015-06-13, 2015-06-11, 2015-07-30, 2015-07-27, 2015-04-29, 2015-06-04, 2015-07-26, 2015-08-01, 2015-08-02, 2015-06-15, 2015-04-23, 2015-07-31, 2015-05-25, 2015-08-03, 2015-04-17, 2015-08-04, 2015-08-06, 2015-05-15, 2015-05-09, 2015-03-17, 2015-05-22, 2015-08-07, 2015-04-04, 2015-08-05, 2015-08-08, 2015-08-10, 2015-05-04, 2015-06-06, 2015-08-09, 2015-08-15, ...]  "
      ]
     },
     "execution_count": 22,
     "metadata": {},
     "output_type": "execute_result"
    }
   ],
   "source": [
    "pd.set_option(\"display.max_colwidth\", None)\n",
    "\n",
    "# iterate each column\n",
    "list_item = []\n",
    "for col in raw_data.columns:\n",
    "    list_item.append([col, raw_data[col].unique()])\n",
    "\n",
    "indices_to_show = [i for i, col in enumerate(raw_data.columns) if raw_data[col].dtype == \"object\"]\n",
    "unique_data = pd.DataFrame(columns=[\"Column Name\", \"Unique Value\"],\n",
    "                           data=[list_item[i] for i in indices_to_show])\n",
    "\n",
    "unique_data"
   ]
  },
  {
   "cell_type": "markdown",
   "id": "72eb33b8-f55c-41b8-a208-c1191a308f17",
   "metadata": {},
   "source": [
    "Based on the dataset information, several insight can be obtained:\n",
    "1. The dataset contains 32 columns with 119,390 rows.\n",
    "2. There are missing values in some columns, that is children (4), country (488), agent (16,340), and company (112,593).\n",
    "3. There is an anomaly where the adults column has a minimum value of 0.\n",
    "4. There are 5 types of meals.\n",
    "5. There are 177 unique countries, indicating that both hotels have very diverse customers.\n",
    "6. Both types of hotels have 8 different market segments and 5 distribution channels.\n",
    "7. Both types of hotels have a combined total of 12 room types.\n",
    "8. There are 4 types of customers.\n",
    "9. The reservation status column has 3 unique values.\n",
    "\n",
    "Additionally, several changes need to be made:\n",
    "1. Dropping majority of total columns that is not relevant for the analysis, namely arrival_date_week_number, stays_in_weekend_nights, stays_in_week_nights, adults, children, babies, market_segment, distribution_channel, is_repeated_guest, previous_cancellations, reserved_room_type, assigned_room_type, booking_changes, agent, company, days_in_waiting_list, customer_type, required_car_parking_spaces.\n",
    "2. Changing the format of the arrival_date to datetime.\n",
    "3. Labeling \"Undefined\" value in the meal column as \"SC\" because it serves the same meaning."
   ]
  },
  {
   "cell_type": "markdown",
   "id": "86a90834-a566-4751-97be-087e855084d8",
   "metadata": {},
   "source": [
    "## Removing Unnecessary Columns"
   ]
  },
  {
   "cell_type": "code",
   "execution_count": 25,
   "id": "43fe4426-5547-460f-9b3b-76574ae38b33",
   "metadata": {},
   "outputs": [],
   "source": [
    "columns_needed = [\"hotel\", \"is_canceled\", \"lead_time\", \"arrival_date_year\", \"arrival_date_month\",\n",
    "                  \"arrival_date_day_of_month\", \"meal\", \"country\", \"previous_bookings_not_canceled\",\n",
    "                  \"deposit_type\", \"adr\", \"total_of_special_requests\", \"reservation_status\"]\n",
    "df = raw_data[columns_needed]"
   ]
  },
  {
   "cell_type": "markdown",
   "id": "dc7b18ff-561f-40cf-80b0-ba5219caa8e4",
   "metadata": {},
   "source": [
    "## Handling Missing Value"
   ]
  },
  {
   "cell_type": "code",
   "execution_count": 27,
   "id": "9de0da80-7fd8-4076-bb4c-a12afa6ce541",
   "metadata": {},
   "outputs": [
    {
     "data": {
      "text/html": [
       "<div>\n",
       "<style scoped>\n",
       "    .dataframe tbody tr th:only-of-type {\n",
       "        vertical-align: middle;\n",
       "    }\n",
       "\n",
       "    .dataframe tbody tr th {\n",
       "        vertical-align: top;\n",
       "    }\n",
       "\n",
       "    .dataframe thead th {\n",
       "        text-align: right;\n",
       "    }\n",
       "</style>\n",
       "<table border=\"1\" class=\"dataframe\">\n",
       "  <thead>\n",
       "    <tr style=\"text-align: right;\">\n",
       "      <th></th>\n",
       "      <th>Column</th>\n",
       "      <th>Total Missing Value</th>\n",
       "    </tr>\n",
       "  </thead>\n",
       "  <tbody>\n",
       "    <tr>\n",
       "      <th>0</th>\n",
       "      <td>hotel</td>\n",
       "      <td>0</td>\n",
       "    </tr>\n",
       "    <tr>\n",
       "      <th>1</th>\n",
       "      <td>is_canceled</td>\n",
       "      <td>0</td>\n",
       "    </tr>\n",
       "    <tr>\n",
       "      <th>2</th>\n",
       "      <td>lead_time</td>\n",
       "      <td>0</td>\n",
       "    </tr>\n",
       "    <tr>\n",
       "      <th>3</th>\n",
       "      <td>arrival_date_year</td>\n",
       "      <td>0</td>\n",
       "    </tr>\n",
       "    <tr>\n",
       "      <th>4</th>\n",
       "      <td>arrival_date_month</td>\n",
       "      <td>0</td>\n",
       "    </tr>\n",
       "    <tr>\n",
       "      <th>5</th>\n",
       "      <td>arrival_date_day_of_month</td>\n",
       "      <td>0</td>\n",
       "    </tr>\n",
       "    <tr>\n",
       "      <th>6</th>\n",
       "      <td>meal</td>\n",
       "      <td>0</td>\n",
       "    </tr>\n",
       "    <tr>\n",
       "      <th>7</th>\n",
       "      <td>country</td>\n",
       "      <td>488</td>\n",
       "    </tr>\n",
       "    <tr>\n",
       "      <th>8</th>\n",
       "      <td>previous_bookings_not_canceled</td>\n",
       "      <td>0</td>\n",
       "    </tr>\n",
       "    <tr>\n",
       "      <th>9</th>\n",
       "      <td>deposit_type</td>\n",
       "      <td>0</td>\n",
       "    </tr>\n",
       "    <tr>\n",
       "      <th>10</th>\n",
       "      <td>adr</td>\n",
       "      <td>0</td>\n",
       "    </tr>\n",
       "    <tr>\n",
       "      <th>11</th>\n",
       "      <td>total_of_special_requests</td>\n",
       "      <td>0</td>\n",
       "    </tr>\n",
       "    <tr>\n",
       "      <th>12</th>\n",
       "      <td>reservation_status</td>\n",
       "      <td>0</td>\n",
       "    </tr>\n",
       "  </tbody>\n",
       "</table>\n",
       "</div>"
      ],
      "text/plain": [
       "                            Column  Total Missing Value\n",
       "0                            hotel                    0\n",
       "1                      is_canceled                    0\n",
       "2                        lead_time                    0\n",
       "3                arrival_date_year                    0\n",
       "4               arrival_date_month                    0\n",
       "5        arrival_date_day_of_month                    0\n",
       "6                             meal                    0\n",
       "7                          country                  488\n",
       "8   previous_bookings_not_canceled                    0\n",
       "9                     deposit_type                    0\n",
       "10                             adr                    0\n",
       "11       total_of_special_requests                    0\n",
       "12              reservation_status                    0"
      ]
     },
     "execution_count": 27,
     "metadata": {},
     "output_type": "execute_result"
    }
   ],
   "source": [
    "missing_values = df.isna().sum()\n",
    "df_missing = pd.DataFrame(missing_values).reset_index()\n",
    "df_missing.columns = [\"Column\", \"Total Missing Value\"]\n",
    "df_missing"
   ]
  },
  {
   "cell_type": "code",
   "execution_count": 28,
   "id": "8b2cec17-ea4d-444f-a84c-7d0d459de9b9",
   "metadata": {},
   "outputs": [],
   "source": [
    "df = df[~(df[\"country\"].isna())]"
   ]
  },
  {
   "cell_type": "markdown",
   "id": "e60a15e0-67ce-4e8e-80d2-7101e150bb5e",
   "metadata": {},
   "source": [
    "Based on the dataset information, only the \"country\" column has missing values. We remove it because:\n",
    "1. It is crucial for the analysis.\n",
    "2. It represents only a small percentage of the total data."
   ]
  },
  {
   "cell_type": "markdown",
   "id": "50d587bb-a225-4098-902b-930a8c03e917",
   "metadata": {},
   "source": [
    "## Handling Outlier"
   ]
  },
  {
   "cell_type": "code",
   "execution_count": 31,
   "id": "37d91a86-3f8b-4fd7-9ec3-b5f299494e31",
   "metadata": {},
   "outputs": [
    {
     "data": {
      "text/html": [
       "<div>\n",
       "<style scoped>\n",
       "    .dataframe tbody tr th:only-of-type {\n",
       "        vertical-align: middle;\n",
       "    }\n",
       "\n",
       "    .dataframe tbody tr th {\n",
       "        vertical-align: top;\n",
       "    }\n",
       "\n",
       "    .dataframe thead th {\n",
       "        text-align: right;\n",
       "    }\n",
       "</style>\n",
       "<table border=\"1\" class=\"dataframe\">\n",
       "  <thead>\n",
       "    <tr style=\"text-align: right;\">\n",
       "      <th></th>\n",
       "      <th>count</th>\n",
       "      <th>mean</th>\n",
       "      <th>std</th>\n",
       "      <th>min</th>\n",
       "      <th>25%</th>\n",
       "      <th>50%</th>\n",
       "      <th>75%</th>\n",
       "      <th>max</th>\n",
       "    </tr>\n",
       "  </thead>\n",
       "  <tbody>\n",
       "    <tr>\n",
       "      <th>is_canceled</th>\n",
       "      <td>118902.0</td>\n",
       "      <td>0.371373</td>\n",
       "      <td>0.483174</td>\n",
       "      <td>0.00</td>\n",
       "      <td>0.0</td>\n",
       "      <td>0.0</td>\n",
       "      <td>1.0</td>\n",
       "      <td>1.0</td>\n",
       "    </tr>\n",
       "    <tr>\n",
       "      <th>lead_time</th>\n",
       "      <td>118902.0</td>\n",
       "      <td>104.308027</td>\n",
       "      <td>106.903127</td>\n",
       "      <td>0.00</td>\n",
       "      <td>18.0</td>\n",
       "      <td>69.0</td>\n",
       "      <td>161.0</td>\n",
       "      <td>737.0</td>\n",
       "    </tr>\n",
       "    <tr>\n",
       "      <th>arrival_date_year</th>\n",
       "      <td>118902.0</td>\n",
       "      <td>2016.157617</td>\n",
       "      <td>0.707479</td>\n",
       "      <td>2015.00</td>\n",
       "      <td>2016.0</td>\n",
       "      <td>2016.0</td>\n",
       "      <td>2017.0</td>\n",
       "      <td>2017.0</td>\n",
       "    </tr>\n",
       "    <tr>\n",
       "      <th>arrival_date_day_of_month</th>\n",
       "      <td>118902.0</td>\n",
       "      <td>15.800567</td>\n",
       "      <td>8.780371</td>\n",
       "      <td>1.00</td>\n",
       "      <td>8.0</td>\n",
       "      <td>16.0</td>\n",
       "      <td>23.0</td>\n",
       "      <td>31.0</td>\n",
       "    </tr>\n",
       "    <tr>\n",
       "      <th>previous_bookings_not_canceled</th>\n",
       "      <td>118902.0</td>\n",
       "      <td>0.131629</td>\n",
       "      <td>1.484647</td>\n",
       "      <td>0.00</td>\n",
       "      <td>0.0</td>\n",
       "      <td>0.0</td>\n",
       "      <td>0.0</td>\n",
       "      <td>72.0</td>\n",
       "    </tr>\n",
       "    <tr>\n",
       "      <th>adr</th>\n",
       "      <td>118902.0</td>\n",
       "      <td>102.000808</td>\n",
       "      <td>50.487004</td>\n",
       "      <td>-6.38</td>\n",
       "      <td>70.0</td>\n",
       "      <td>95.0</td>\n",
       "      <td>126.0</td>\n",
       "      <td>5400.0</td>\n",
       "    </tr>\n",
       "    <tr>\n",
       "      <th>total_of_special_requests</th>\n",
       "      <td>118902.0</td>\n",
       "      <td>0.571706</td>\n",
       "      <td>0.792678</td>\n",
       "      <td>0.00</td>\n",
       "      <td>0.0</td>\n",
       "      <td>0.0</td>\n",
       "      <td>1.0</td>\n",
       "      <td>5.0</td>\n",
       "    </tr>\n",
       "  </tbody>\n",
       "</table>\n",
       "</div>"
      ],
      "text/plain": [
       "                                   count         mean         std      min  \\\n",
       "is_canceled                     118902.0     0.371373    0.483174     0.00   \n",
       "lead_time                       118902.0   104.308027  106.903127     0.00   \n",
       "arrival_date_year               118902.0  2016.157617    0.707479  2015.00   \n",
       "arrival_date_day_of_month       118902.0    15.800567    8.780371     1.00   \n",
       "previous_bookings_not_canceled  118902.0     0.131629    1.484647     0.00   \n",
       "adr                             118902.0   102.000808   50.487004    -6.38   \n",
       "total_of_special_requests       118902.0     0.571706    0.792678     0.00   \n",
       "\n",
       "                                   25%     50%     75%     max  \n",
       "is_canceled                        0.0     0.0     1.0     1.0  \n",
       "lead_time                         18.0    69.0   161.0   737.0  \n",
       "arrival_date_year               2016.0  2016.0  2017.0  2017.0  \n",
       "arrival_date_day_of_month          8.0    16.0    23.0    31.0  \n",
       "previous_bookings_not_canceled     0.0     0.0     0.0    72.0  \n",
       "adr                               70.0    95.0   126.0  5400.0  \n",
       "total_of_special_requests          0.0     0.0     1.0     5.0  "
      ]
     },
     "execution_count": 31,
     "metadata": {},
     "output_type": "execute_result"
    }
   ],
   "source": [
    "df.describe().T"
   ]
  },
  {
   "cell_type": "code",
   "execution_count": 32,
   "id": "330f390a-f302-4183-b9f0-05d0d75956ba",
   "metadata": {},
   "outputs": [
    {
     "data": {
      "image/png": "[encoded data removed]",
      "text/plain": [
       "<Figure size 1100x400 with 1 Axes>"
      ]
     },
     "metadata": {},
     "output_type": "display_data"
    },
    {
     "data": {
      "image/png": "[encoded data removed]",
      "text/plain": [
       "<Figure size 1100x400 with 1 Axes>"
      ]
     },
     "metadata": {},
     "output_type": "display_data"
    }
   ],
   "source": [
    "# looping boxplot to seek for outlier\n",
    "column_to_handle = [\"lead_time\", \"adr\"]\n",
    "for index, col in enumerate(column_to_handle):\n",
    "    plt.figure(figsize=(11,4))\n",
    "    sns.boxplot(x=df[col])\n",
    "    plt.title(col)\n",
    "    plt.xlabel(\"\")\n",
    "\n",
    "plt.show()"
   ]
  },
  {
   "cell_type": "code",
   "execution_count": 33,
   "id": "02799b17-1748-4512-91ff-f10b19b4bf7a",
   "metadata": {},
   "outputs": [
    {
     "data": {
      "text/html": [
       "<div>\n",
       "<style scoped>\n",
       "    .dataframe tbody tr th:only-of-type {\n",
       "        vertical-align: middle;\n",
       "    }\n",
       "\n",
       "    .dataframe tbody tr th {\n",
       "        vertical-align: top;\n",
       "    }\n",
       "\n",
       "    .dataframe thead th {\n",
       "        text-align: right;\n",
       "    }\n",
       "</style>\n",
       "<table border=\"1\" class=\"dataframe\">\n",
       "  <thead>\n",
       "    <tr style=\"text-align: right;\">\n",
       "      <th></th>\n",
       "      <th>Lower Bound</th>\n",
       "      <th>Upper Bound</th>\n",
       "      <th>Total Outlier</th>\n",
       "      <th>Percentage of All</th>\n",
       "    </tr>\n",
       "  </thead>\n",
       "  <tbody>\n",
       "    <tr>\n",
       "      <th>lead_time</th>\n",
       "      <td>-196.5</td>\n",
       "      <td>375.5</td>\n",
       "      <td>2982</td>\n",
       "      <td>2.51</td>\n",
       "    </tr>\n",
       "    <tr>\n",
       "      <th>adr</th>\n",
       "      <td>-14.0</td>\n",
       "      <td>210.0</td>\n",
       "      <td>3883</td>\n",
       "      <td>3.27</td>\n",
       "    </tr>\n",
       "  </tbody>\n",
       "</table>\n",
       "</div>"
      ],
      "text/plain": [
       "           Lower Bound  Upper Bound  Total Outlier  Percentage of All\n",
       "lead_time       -196.5        375.5           2982               2.51\n",
       "adr              -14.0        210.0           3883               3.27"
      ]
     },
     "execution_count": 33,
     "metadata": {},
     "output_type": "execute_result"
    }
   ],
   "source": [
    "# identify lower and upper bound of each column's outlier\n",
    "outlier_dict = {\n",
    "    \"Lower Bound\": [],\n",
    "    \"Upper Bound\": [],\n",
    "    \"Total Outlier\": [],\n",
    "    \"Percentage of All\": []\n",
    "}\n",
    "\n",
    "# iterate\n",
    "for col in column_to_handle: # column_to_handle has been previously assigned\n",
    "    Q1 = df[col].quantile(0.25)\n",
    "    Q3 = df[col].quantile(0.75)\n",
    "    IQR = Q3 - Q1\n",
    "\n",
    "    floor = Q1 - 1.5 * IQR\n",
    "    ceiling = Q3 + 1.5 * IQR\n",
    "    \n",
    "    total_outlier = len(df[(df[col] < floor) | (df[col] > ceiling)])\n",
    "    outlier_percentage = total_outlier / len(df) * 100\n",
    "\n",
    "    # append\n",
    "    outlier_dict[\"Lower Bound\"].append(round(floor, 2))\n",
    "    outlier_dict[\"Upper Bound\"].append(round(ceiling, 2))\n",
    "    outlier_dict[\"Total Outlier\"].append(total_outlier)\n",
    "    outlier_dict[\"Percentage of All\"].append(round(outlier_percentage, 2))\n",
    "\n",
    "pd.DataFrame(outlier_dict, index=column_to_handle)"
   ]
  },
  {
   "cell_type": "code",
   "execution_count": 34,
   "id": "18ea2001-d6ff-4069-a85e-beccd1235b63",
   "metadata": {},
   "outputs": [],
   "source": [
    "# outlier on lead_time\n",
    "lead_time_Q1 = df[\"lead_time\"].quantile(0.25)\n",
    "lead_time_Q3 = df[\"lead_time\"].quantile(0.75)\n",
    "lead_time_IQR = lead_time_Q3 - lead_time_Q1\n",
    "\n",
    "lead_time_floor = lead_time_Q1 - 1.5 * lead_time_IQR\n",
    "lead_time_ceiling = lead_time_Q3 + 1.5 * lead_time_IQR\n",
    "\n",
    "df = df[~((df[\"lead_time\"] < lead_time_floor) | (df[\"lead_time\"] > lead_time_ceiling))]"
   ]
  },
  {
   "cell_type": "code",
   "execution_count": 35,
   "id": "b5cfdb41-2790-4680-9395-d06e25b6db43",
   "metadata": {},
   "outputs": [],
   "source": [
    "# outlier on adr\n",
    "adr_Q1 = df[\"adr\"].quantile(0.25)\n",
    "adr_Q3 = df[\"adr\"].quantile(0.75)\n",
    "adr_IQR = adr_Q3 - adr_Q1\n",
    "\n",
    "adr_ceiling = adr_Q3 + 1.5 * adr_IQR\n",
    "\n",
    "df = df[~((df[\"adr\"] < 60) | (df[\"adr\"] > adr_ceiling))]"
   ]
  },
  {
   "cell_type": "markdown",
   "id": "abf27a97-2efa-4235-a3ad-e88240a53085",
   "metadata": {},
   "source": [
    "We removed all lead_time outliers using the IQR calculation. For the adr outliers, we re-evaluated boundaries to ensure the lower bound is not less than 60, as it is not possible for adr to have a negative value. We researched the logical minimum average hotel price from several sources<sup>[1](https://trek.zone/en/portugal/prices), [2](https://www.budgetyourtrip.com/hotels/portugal-PT), [3](https://bettertravel.ai/hotel-prices/portugal)</sup>."
   ]
  },
  {
   "cell_type": "markdown",
   "id": "c7dc83fc-cd93-419b-a248-e99ced779fca",
   "metadata": {},
   "source": [
    "## Removing Duplicated Data"
   ]
  },
  {
   "cell_type": "code",
   "execution_count": 38,
   "id": "38846336-2da9-40c3-a129-279445421c08",
   "metadata": {},
   "outputs": [],
   "source": [
    "df.drop_duplicates(inplace=True)"
   ]
  },
  {
   "cell_type": "markdown",
   "id": "a40f04b0-665e-42b4-acfd-8441449274b8",
   "metadata": {},
   "source": [
    "We remove duplicates in the dataset because:\n",
    "1. Redundant, which doesn't add more value to the analysis.\n",
    "2. Inaccuracy, which lead to skewness."
   ]
  },
  {
   "cell_type": "markdown",
   "id": "56a1c9b8-b33a-4f40-9268-a98593e13b65",
   "metadata": {},
   "source": [
    "## Data Transformation"
   ]
  },
  {
   "cell_type": "markdown",
   "id": "acd44a0e-6a1a-4f3f-a8b6-938f03d2803f",
   "metadata": {},
   "source": [
    "### Changing Date Format"
   ]
  },
  {
   "cell_type": "code",
   "execution_count": 42,
   "id": "c61f13ff-886e-408f-9c89-c8c04be33ec5",
   "metadata": {},
   "outputs": [],
   "source": [
    "# combining datetime\n",
    "df[\"arrival_date\"] = pd.to_datetime(\n",
    "    df[\"arrival_date_year\"].astype(str) + \" \" +\n",
    "    df[\"arrival_date_month\"] + \" \" +\n",
    "    df[\"arrival_date_day_of_month\"].astype(str),\n",
    "    format=\"%Y %B %d\"\n",
    ")"
   ]
  },
  {
   "cell_type": "markdown",
   "id": "08c92c20-6c92-4e83-89e0-b98e8f9f6110",
   "metadata": {},
   "source": [
    "### Relabeling Meal Value"
   ]
  },
  {
   "cell_type": "code",
   "execution_count": 44,
   "id": "382d651e-6fba-402c-a4f8-f8d7a24ce588",
   "metadata": {},
   "outputs": [],
   "source": [
    "df[\"meal\"] = df[\"meal\"].replace(\"Undefined\", \"SC\")"
   ]
  },
  {
   "cell_type": "markdown",
   "id": "1d3befb0-618f-4647-b6ae-3053ddf9e6c5",
   "metadata": {},
   "source": [
    "## Saving Clean Data"
   ]
  },
  {
   "cell_type": "code",
   "execution_count": 46,
   "id": "ef89032f-3c77-48ef-b971-731a0663390e",
   "metadata": {},
   "outputs": [
    {
     "data": {
      "text/plain": [
       "(66831, 14)"
      ]
     },
     "execution_count": 46,
     "metadata": {},
     "output_type": "execute_result"
    }
   ],
   "source": [
    "df.shape"
   ]
  },
  {
   "cell_type": "markdown",
   "id": "3551b602-bdb2-4bab-a41a-27db8c2d4052",
   "metadata": {},
   "source": [
    "The number of columns has been reduced from 32 to 11, and the number of rows has decreased from 119,390 to 66,831."
   ]
  },
  {
   "cell_type": "code",
   "execution_count": 48,
   "id": "a59e7b02-f41d-46db-9900-a092d15b5461",
   "metadata": {},
   "outputs": [],
   "source": [
    "df.to_csv(\"hotel_booking_cleaned.csv\", index=False)"
   ]
  },
  {
   "cell_type": "markdown",
   "id": "b6e6c2bb-3e89-43fe-967a-c1afee8c71a7",
   "metadata": {},
   "source": [
    "# Data Analysis"
   ]
  },
  {
   "cell_type": "markdown",
   "id": "a46f1546-e7ea-48ef-9080-5662e446501d",
   "metadata": {},
   "source": [
    "## Portion of Cancelation"
   ]
  },
  {
   "cell_type": "code",
   "execution_count": 51,
   "id": "4062760d-e6ca-44c3-9623-3dd0d164237a",
   "metadata": {},
   "outputs": [
    {
     "data": {
      "text/html": [
       "<div>\n",
       "<style scoped>\n",
       "    .dataframe tbody tr th:only-of-type {\n",
       "        vertical-align: middle;\n",
       "    }\n",
       "\n",
       "    .dataframe tbody tr th {\n",
       "        vertical-align: top;\n",
       "    }\n",
       "\n",
       "    .dataframe thead th {\n",
       "        text-align: right;\n",
       "    }\n",
       "</style>\n",
       "<table border=\"1\" class=\"dataframe\">\n",
       "  <thead>\n",
       "    <tr style=\"text-align: right;\">\n",
       "      <th></th>\n",
       "      <th>is_canceled</th>\n",
       "      <th>0</th>\n",
       "    </tr>\n",
       "  </thead>\n",
       "  <tbody>\n",
       "    <tr>\n",
       "      <th>0</th>\n",
       "      <td>0</td>\n",
       "      <td>47152</td>\n",
       "    </tr>\n",
       "    <tr>\n",
       "      <th>1</th>\n",
       "      <td>1</td>\n",
       "      <td>19679</td>\n",
       "    </tr>\n",
       "  </tbody>\n",
       "</table>\n",
       "</div>"
      ],
      "text/plain": [
       "   is_canceled      0\n",
       "0            0  47152\n",
       "1            1  19679"
      ]
     },
     "execution_count": 51,
     "metadata": {},
     "output_type": "execute_result"
    }
   ],
   "source": [
    "df.groupby(\"is_canceled\").size().reset_index()"
   ]
  },
  {
   "cell_type": "code",
   "execution_count": 52,
   "id": "7d648dcb-f9aa-408c-88a8-15a7bdff1846",
   "metadata": {},
   "outputs": [
    {
     "data": {
      "image/png": "[encoded data removed]",
      "text/plain": [
       "<Figure size 640x480 with 1 Axes>"
      ]
     },
     "metadata": {},
     "output_type": "display_data"
    },
    {
     "data": {
      "image/png": "[encoded data removed]",
      "text/plain": [
       "<Figure size 640x480 with 1 Axes>"
      ]
     },
     "metadata": {},
     "output_type": "display_data"
    }
   ],
   "source": [
    "listHotel = [i for i in df[\"hotel\"].unique()] \n",
    "for hotel in listHotel:\n",
    "    df_hotel = df[df[\"hotel\"] == hotel]\n",
    "    booking_portion = df_hotel.groupby(\"is_canceled\").size().reset_index(name=\"count\")\n",
    "    booking_portion[\"is_canceled\"] = booking_portion[\"is_canceled\"].replace({0: \"Not Canceled\", 1: \"Canceled\"})\n",
    "\n",
    "    colors = sns.color_palette(\"muted\")\n",
    "    plt.pie(x=\"count\", labels=\"is_canceled\", data=booking_portion, autopct='%1.2f%%', startangle=90, colors=colors)\n",
    "    plt.title(f\"Booking Rate in {hotel}\")\n",
    "    plt.show()"
   ]
  },
  {
   "cell_type": "markdown",
   "id": "32c5aa4b-b3f1-4398-a659-c5f45f626917",
   "metadata": {},
   "source": [
    "**Insight**\n",
    "\n",
    "It is known that 26.06 percent of bookings were canceled in Resort Hotel, while 30.82 percent of bookings were canceled in City Hotel."
   ]
  },
  {
   "cell_type": "markdown",
   "id": "5ffa73f5-9188-4f43-b573-11c4f4d2a142",
   "metadata": {},
   "source": [
    "## Cancelation by Country"
   ]
  },
  {
   "cell_type": "code",
   "execution_count": 55,
   "id": "c9047080-a1a5-41be-b35c-cd40d0d7dadc",
   "metadata": {},
   "outputs": [
    {
     "data": {
      "image/png": "[encoded data removed]",
      "text/plain": [
       "<Figure size 640x480 with 1 Axes>"
      ]
     },
     "metadata": {},
     "output_type": "display_data"
    }
   ],
   "source": [
    "country_canceling = df[df[\"is_canceled\"] == 1].groupby(\"country\").size().reset_index(name=\"count\").sort_values(by=\"count\", ascending=False).head(4)\n",
    "\n",
    "colors = sns.color_palette(\"muted\")\n",
    "plt.pie(x=\"count\", labels=\"country\", data=country_canceling, autopct='%1.2f%%', startangle=90, colors=colors)\n",
    "plt.title(\"(the) Big 4 of Cancelation\")\n",
    "plt.show()"
   ]
  },
  {
   "cell_type": "markdown",
   "id": "db86b028-5da6-43ff-841d-6ef0a00fd56c",
   "metadata": {},
   "source": [
    "**Insight**\n",
    "\n",
    "Highest number of cancellations came from Portugal's themselves, as the majority of visitors to both hotels are domestic travelers. Apart from that, the other top three cancelations came from Great Britain, France, and Spain."
   ]
  },
  {
   "cell_type": "markdown",
   "id": "d901d2c2-ade5-404b-a60f-ec11808b4e29",
   "metadata": {},
   "source": [
    "## Cancelation Over Time"
   ]
  },
  {
   "cell_type": "code",
   "execution_count": 58,
   "id": "39c57642-e47f-4602-9e77-e35dd21bc3ce",
   "metadata": {},
   "outputs": [
    {
     "data": {
      "image/png": "[encoded data removed]",
      "text/plain": [
       "<Figure size 1000x400 with 1 Axes>"
      ]
     },
     "metadata": {},
     "output_type": "display_data"
    }
   ],
   "source": [
    "df[\"arrival_monthly\"] = df[\"arrival_date\"].dt.to_period(\"M\").astype(str)\n",
    "\n",
    "canceled_booking = df[df[\"is_canceled\"] == 1].groupby([\"hotel\", \"arrival_monthly\"])[\"is_canceled\"].value_counts().reset_index()\n",
    "\n",
    "plt.figure(figsize=(10,4))\n",
    "sns.lineplot(x=\"arrival_monthly\", y=\"count\", data=canceled_booking, hue=\"hotel\", palette=\"crest\")\n",
    "plt.title(\"Cancelation by Hotel Type\")\n",
    "plt.xlabel(\"\")\n",
    "plt.xticks(rotation=90)\n",
    "plt.ylabel(\"# Cancelation\")\n",
    "plt.show()"
   ]
  },
  {
   "cell_type": "markdown",
   "id": "95e2c062-f4b5-48db-a588-25c76310dc14",
   "metadata": {},
   "source": [
    "**Insight**\n",
    "1. Booking at City Hotel has been increasingly canceled each year, rising from 193 in Q3 of 2015 to over 643 in Q3 of 2016, and continuing to increase in 2017.\n",
    "2. Similarly, cancelation at Resort Hotel have also escalated, climbing from 261 in Q3 of 2015 to over 323 in Q3 of 2016, with an ongoing increase throughout 2017."
   ]
  },
  {
   "cell_type": "markdown",
   "id": "07631429-db8e-4199-b712-d0e7f4b76d03",
   "metadata": {},
   "source": [
    "## ADR Fluctuation Between Bookings and Cancelation"
   ]
  },
  {
   "cell_type": "code",
   "execution_count": 61,
   "id": "7ca582c8-fd9f-449a-ac26-8d738e2c7a2e",
   "metadata": {},
   "outputs": [
    {
     "data": {
      "image/png": "[encoded data removed]",
      "text/plain": [
       "<Figure size 1000x400 with 1 Axes>"
      ]
     },
     "metadata": {},
     "output_type": "display_data"
    },
    {
     "data": {
      "image/png": "[encoded data removed]",
      "text/plain": [
       "<Figure size 1000x400 with 1 Axes>"
      ]
     },
     "metadata": {},
     "output_type": "display_data"
    }
   ],
   "source": [
    "for hotel in listHotel:\n",
    "    df_hotel = df[df[\"hotel\"] == hotel]\n",
    "    adr_trend = df_hotel.groupby([\"is_canceled\", \"arrival_monthly\"])[\"adr\"].sum().reset_index()\n",
    "    adr_canceled = adr_trend[adr_trend[\"is_canceled\"] == 1]\n",
    "    adr_notCanceled = adr_trend[adr_trend[\"is_canceled\"] == 0]\n",
    "    \n",
    "    plt.figure(figsize=(10,4))\n",
    "    plt.fill_between(adr_canceled[\"arrival_monthly\"], adr_canceled[\"adr\"], color=\"#6aa18e\", alpha=0.6, label=\"Canceled\")\n",
    "    plt.fill_between(adr_notCanceled[\"arrival_monthly\"], adr_notCanceled[\"adr\"], color=\"#6aa18e\", alpha=0.3, label=\"Not Canceled\")\n",
    "    \n",
    "    plt.plot(adr_canceled[\"arrival_monthly\"], adr_canceled[\"adr\"], color=\"#6aa18e\", alpha=0)\n",
    "    plt.plot(adr_notCanceled[\"arrival_monthly\"], adr_notCanceled[\"adr\"], color=\"#6aa18e\", alpha=0)\n",
    "\n",
    "    plt.title(f\"ADR Differences in {hotel}\")\n",
    "    plt.legend()\n",
    "    plt.xlabel(\"\")\n",
    "    plt.xticks(rotation=90)\n",
    "    plt.ylabel(\"ADR\")\n",
    "    plt.show()"
   ]
  },
  {
   "cell_type": "markdown",
   "id": "ef54dfc6-b766-4de5-becd-313bb9885271",
   "metadata": {},
   "source": [
    "**Insight**\n",
    "1. For City Hotels, there is a notable difference in the average nightly income between guests who follow through with their bookings and those who cancel. The income generated from guests who do not cancel is significantly higher compared to those who canceled their reservations.\n",
    "2. It goes the same for Resort Hotel. They could potentially gain more revenue from customers who stays and order additional services. This can be seen from the ADR cancelation data, which highlights the daily revenue that lost when compared to the non canceled booking."
   ]
  },
  {
   "cell_type": "markdown",
   "id": "3ecaefbe-1e6f-401b-be88-9bb65e0b2d17",
   "metadata": {},
   "source": [
    "## Total Profit and Cancelation Rate From Each Hotel"
   ]
  },
  {
   "cell_type": "code",
   "execution_count": 64,
   "id": "9af220fb-3c98-4c91-b8c4-4ee97d338833",
   "metadata": {},
   "outputs": [
    {
     "data": {
      "image/png": "[encoded data removed]",
      "text/plain": [
       "<Figure size 600x500 with 1 Axes>"
      ]
     },
     "metadata": {},
     "output_type": "display_data"
    }
   ],
   "source": [
    "notCanceled_booking = df[df[\"is_canceled\"] == 0]\n",
    "hotel_profit = notCanceled_booking.groupby(\"hotel\")[\"adr\"].sum().reset_index()\n",
    "\n",
    "plt.figure(figsize=(6,5))\n",
    "sns.barplot(x=\"hotel\", y=\"adr\", data=hotel_profit, hue=\"hotel\", palette=\"muted\")\n",
    "plt.title(\"Total Profit by Hotel\")\n",
    "plt.xlabel(\"\")\n",
    "plt.ylabel(\"Profit\")\n",
    "plt.show()"
   ]
  },
  {
   "cell_type": "code",
   "execution_count": 65,
   "id": "b831dbc6-9f2a-4471-bcb0-21dd43ac88da",
   "metadata": {},
   "outputs": [
    {
     "data": {
      "image/png": "[encoded data removed]",
      "text/plain": [
       "<Figure size 600x500 with 1 Axes>"
      ]
     },
     "metadata": {},
     "output_type": "display_data"
    }
   ],
   "source": [
    "cancel_rate = df.groupby(\"hotel\")[\"is_canceled\"].mean().reset_index()\n",
    "\n",
    "plt.figure(figsize=(6,5))\n",
    "sns.barplot(x=\"hotel\", y=\"is_canceled\", data=cancel_rate, hue=\"hotel\", palette=\"muted\")\n",
    "plt.title(\"Cancelation by Hotel Type\")\n",
    "plt.xlabel(\"\")\n",
    "plt.ylabel(\"Rate\")\n",
    "plt.show()"
   ]
  },
  {
   "cell_type": "markdown",
   "id": "ba2fea32-ae8e-4277-9291-046dd2ea37cc",
   "metadata": {},
   "source": [
    "**Insight**\n",
    "\n",
    "Based on the data, it is known that City Hotel is more profitable, twice as much as Resort Hotel, but experiences cancellations more frequently."
   ]
  },
  {
   "cell_type": "markdown",
   "id": "3137ba0f-2f80-4365-b6ec-d1cc73971907",
   "metadata": {},
   "source": [
    "## Highest Booking Season"
   ]
  },
  {
   "cell_type": "code",
   "execution_count": 68,
   "id": "e2b3f8d1-1d52-4c92-8be8-ac0d175c2a18",
   "metadata": {},
   "outputs": [
    {
     "data": {
      "image/png": "[encoded data removed]",
      "text/plain": [
       "<Figure size 1000x400 with 1 Axes>"
      ]
     },
     "metadata": {},
     "output_type": "display_data"
    },
    {
     "data": {
      "image/png": "[encoded data removed]",
      "text/plain": [
       "<Figure size 1000x400 with 1 Axes>"
      ]
     },
     "metadata": {},
     "output_type": "display_data"
    }
   ],
   "source": [
    "for hotel in listHotel:\n",
    "    df_hotel = df[df[\"hotel\"] == hotel]\n",
    "    df_notCanceled = df_hotel[df_hotel[\"is_canceled\"] == 0]\n",
    "    df_month_byHotel = df_notCanceled.groupby(\"arrival_date_month\").size().sort_values(ascending=False).reset_index(name=\"count\")\n",
    "\n",
    "    plt.figure(figsize=(10,4))\n",
    "    sns.barplot(x=\"count\", y=\"arrival_date_month\", data=df_month_byHotel.head(5), hue=\"arrival_date_month\", palette=\"muted\")\n",
    "    plt.title(f\"Top 5 Highest Booking by Month in {hotel}\")\n",
    "    plt.xlabel(\"\")\n",
    "    plt.ylabel(\"\")\n",
    "\n",
    "    max_value = df_month_byHotel[\"count\"].max()\n",
    "    plt.xlim(0, max_value * 1.065)\n",
    "    \n",
    "    for index, value in enumerate(df_month_byHotel[\"count\"].head(5)):\n",
    "        plt.text(value * 1.01, index, str(round(value, 2)), va=\"center\", ha=\"left\")\n",
    "\n",
    "    plt.show()"
   ]
  },
  {
   "cell_type": "markdown",
   "id": "ccbd1ac9-1544-4c32-a678-576e1917f980",
   "metadata": {},
   "source": [
    "**Insight**\n",
    "\n",
    "From the data, it is known that the highest bookings for both hotels occur in the second and third quarters of the year."
   ]
  },
  {
   "cell_type": "markdown",
   "id": "4d48092a-087b-4b22-b797-ffdd36f97d19",
   "metadata": {},
   "source": [
    "## Lead Time Impact on Cancelation Rate"
   ]
  },
  {
   "cell_type": "code",
   "execution_count": 71,
   "id": "c8c28c22-5771-4b78-9db2-870618b31200",
   "metadata": {},
   "outputs": [],
   "source": [
    "# calculate the mean of the lead time\n",
    "avg_lead_time = df.groupby('arrival_monthly')['lead_time'].mean().reset_index()\n",
    "\n",
    "# calculate mean of canceled booking by month\n",
    "cancel_rate = df.groupby('arrival_monthly')['is_canceled'].mean().reset_index()\n",
    "cancel_rate[\"is_canceled\"] = cancel_rate[\"is_canceled\"] * 100"
   ]
  },
  {
   "cell_type": "markdown",
   "id": "1a747f26-fc41-4c47-850d-0ac2b70ec5ad",
   "metadata": {},
   "source": [
    "### Normality Test\n",
    "Here we use the Kolgomorov-Smirnov Test."
   ]
  },
  {
   "cell_type": "code",
   "execution_count": 73,
   "id": "bb982491-df8b-43c4-82f9-f35c6edf5adb",
   "metadata": {},
   "outputs": [
    {
     "name": "stdout",
     "output_type": "stream",
     "text": [
      "Values are not normally distributed.\n"
     ]
    }
   ],
   "source": [
    "stat, p_value = ks_2samp(avg_lead_time[\"lead_time\"], cancel_rate[\"is_canceled\"])\n",
    "alpha = 0.05\n",
    "\n",
    "if p_value < alpha:\n",
    "    print(\"Values are not normally distributed.\")\n",
    "else:\n",
    "    print(\"Values are normally distributed.\")"
   ]
  },
  {
   "cell_type": "markdown",
   "id": "c325a078-c1f0-4eeb-af5b-efd507f67cf0",
   "metadata": {},
   "source": [
    "### Hypothesis Testing\n",
    "Because the data is not normally distributed, the Spearman Test is used."
   ]
  },
  {
   "cell_type": "code",
   "execution_count": 75,
   "id": "abe54a4a-e9b3-4271-988c-b197a6a48a0f",
   "metadata": {},
   "outputs": [
    {
     "name": "stdout",
     "output_type": "stream",
     "text": [
      "Hypothesis:\n",
      "H0: There is no correlation between lead time and cancelation rate.\n",
      "H1: There is a correlation between lead time and cancelation rate.\n",
      "Criteria: Reject null hypothesis if the p_value ≤ alpha.\n",
      "\n",
      "rho: 0.7429059829059829\n",
      "P-value: 1.3805977951239306e-05\n",
      "Reject the null hypothesis.\n"
     ]
    }
   ],
   "source": [
    "print(\"\"\"Hypothesis:\n",
    "H0: There is no correlation between lead time and cancelation rate.\n",
    "H1: There is a correlation between lead time and cancelation rate.\n",
    "Criteria: Reject null hypothesis if the p_value ≤ alpha.\n",
    "\"\"\")\n",
    "\n",
    "r_value, p_value = spearmanr(cancel_rate[\"is_canceled\"], avg_lead_time[\"lead_time\"])\n",
    "alpha = 0.05\n",
    "\n",
    "print(f\"rho: {r_value}\")\n",
    "print(f\"P-value: {p_value}\")\n",
    "\n",
    "if p_value <= alpha:\n",
    "    print(\"Reject the null hypothesis.\")\n",
    "else:\n",
    "    print(\"Fail to reject the null hypothesis.\")"
   ]
  },
  {
   "cell_type": "markdown",
   "id": "ad4fa4ca-1f3f-467c-b5e4-c6e6d9566453",
   "metadata": {},
   "source": [
    "**Insight**\n",
    "\n",
    "From the hypothesis testing, it can be concluded that there is a strong positive correlation between lead time and cancelation rate."
   ]
  },
  {
   "cell_type": "code",
   "execution_count": 77,
   "id": "e0aabfd8-bf31-43ba-a72e-8a3a0c98519b",
   "metadata": {},
   "outputs": [
    {
     "name": "stdout",
     "output_type": "stream",
     "text": [
      "                            OLS Regression Results                            \n",
      "==============================================================================\n",
      "Dep. Variable:            is_canceled   R-squared:                       0.537\n",
      "Model:                            OLS   Adj. R-squared:                  0.518\n",
      "Method:                 Least Squares   F-statistic:                     27.86\n",
      "Date:                Sun, 03 Nov 2024   Prob (F-statistic):           2.06e-05\n",
      "Time:                        10:29:42   Log-Likelihood:                -70.449\n",
      "No. Observations:                  26   AIC:                             144.9\n",
      "Df Residuals:                      24   BIC:                             147.4\n",
      "Df Model:                           1                                         \n",
      "Covariance Type:            nonrobust                                         \n",
      "==============================================================================\n",
      "                 coef    std err          t      P>|t|      [0.025      0.975]\n",
      "------------------------------------------------------------------------------\n",
      "const         18.8378      1.910      9.860      0.000      14.895      22.781\n",
      "lead_time      0.1289      0.024      5.278      0.000       0.078       0.179\n",
      "==============================================================================\n",
      "Omnibus:                        0.021   Durbin-Watson:                   0.624\n",
      "Prob(Omnibus):                  0.990   Jarque-Bera (JB):                0.130\n",
      "Skew:                          -0.052   Prob(JB):                        0.937\n",
      "Kurtosis:                       2.670   Cond. No.                         201.\n",
      "==============================================================================\n",
      "\n",
      "Notes:\n",
      "[1] Standard Errors assume that the covariance matrix of the errors is correctly specified.\n"
     ]
    }
   ],
   "source": [
    "y = cancel_rate[\"is_canceled\"]\n",
    "x = avg_lead_time[\"lead_time\"]\n",
    "x = sm.add_constant(x)\n",
    "\n",
    "model = sm.OLS(y, x)\n",
    "result = model.fit()\n",
    "print(result.summary())"
   ]
  },
  {
   "cell_type": "markdown",
   "id": "94adf38c-f7b6-4df0-a213-b94ca31df29f",
   "metadata": {},
   "source": [
    "**Insight**\n",
    "\n",
    "Based on the regression result, it can be concluded that:\n",
    "1. 53.7 percent of the variation in the dependent variable, namely Cancelation Rate, can be explain by the variation in the independent variable, namely Lead Time.\n",
    "2. Lead Time variable significantly positively affects the Cancelation Rate variable, where every 1-day increase in Lead Time leads to a 0.129 percent increase in Cancelation Rate.\n",
    "3. The estimated value of Cancelation Rate is 18.838 percent, ceteris paribus."
   ]
  },
  {
   "cell_type": "markdown",
   "id": "5aac833c-5c70-4fd6-ba50-6b51ec7e4300",
   "metadata": {},
   "source": [
    "## Deposit Type Correlation with Cancelations"
   ]
  },
  {
   "cell_type": "markdown",
   "id": "be16f2b1-20bb-412f-b7fc-2a9915f2e111",
   "metadata": {},
   "source": [
    "### Hypothesis Test\n",
    "Here we use the Chi-Square Test."
   ]
  },
  {
   "cell_type": "code",
   "execution_count": 81,
   "id": "00b77273-389c-4b91-be13-2077a816ea4d",
   "metadata": {},
   "outputs": [
    {
     "name": "stdout",
     "output_type": "stream",
     "text": [
      "Hypothesis:\n",
      "H0: There is no correlation between deposit type and booking cancelation.\n",
      "H1: There is a correlation between deposit type and booking cancelation.\n",
      "Criteria: Reject null hypothesis if the p_value ≤ alpha.\n",
      "\n",
      "Expected Frequency:\n",
      "[[4.66009726e+04 1.94490274e+04]\n",
      " [5.03756161e+02 2.10243839e+02]\n",
      " [4.72712364e+01 1.97287636e+01]]\n",
      "\n",
      "Reject the null hypothesis.\n"
     ]
    }
   ],
   "source": [
    "print(\"\"\"Hypothesis:\n",
    "H0: There is no correlation between deposit type and booking cancelation.\n",
    "H1: There is a correlation between deposit type and booking cancelation.\n",
    "Criteria: Reject null hypothesis if the p_value ≤ alpha.\n",
    "\"\"\")\n",
    "\n",
    "# counting each deposit type frequency\n",
    "contingencyTable = pd.crosstab(df[\"deposit_type\"], df[\"is_canceled\"])\n",
    "\n",
    "# performing the chi-square\n",
    "stat, p_value, dof, expected = chi2_contingency(contingencyTable)\n",
    "alpha = 0.05\n",
    "\n",
    "# check if expected frequency is > 5\n",
    "print(f\"Expected Frequency:\\n{expected}\\n\")\n",
    "\n",
    "if p_value <= alpha:\n",
    "    print(\"Reject the null hypothesis.\")\n",
    "else:\n",
    "    print(\"Fail to reject the null hypothesis.\")"
   ]
  },
  {
   "cell_type": "markdown",
   "id": "deb618f3-840a-4a91-83c9-2df4e0a46578",
   "metadata": {},
   "source": [
    "**Insight**\n",
    "\n",
    "From the hypothesis testing, it can be concluded that there is a correlation between deposit type and booking cancelation."
   ]
  },
  {
   "cell_type": "markdown",
   "id": "e365bcae-2f23-4d39-8be5-48c95fc0c524",
   "metadata": {},
   "source": [
    "## Meal Impact on ADR"
   ]
  },
  {
   "cell_type": "code",
   "execution_count": 84,
   "id": "bbbdef18-c95a-45a6-aa03-c0acfe044ae8",
   "metadata": {},
   "outputs": [],
   "source": [
    "df_meal = df.copy()\n",
    "df_meal[\"is_having_meal\"] = df_meal[\"meal\"].apply(lambda x: 0 if x == \"SC\" else 1 if x  == \"BB\" else 2 if x == \"HB\" else 3 if x == \"FB\" else None)\n",
    "\n",
    "canceled_meal = df_meal[(df_meal[\"is_canceled\"] == 1) & (df_meal[\"is_having_meal\"] != 0)]"
   ]
  },
  {
   "cell_type": "markdown",
   "id": "535814c7-c0e7-4292-9710-1b9da3ae1e04",
   "metadata": {},
   "source": [
    "### Normality Test\n",
    "Here we use the Kolgomorov-Smirnov Test."
   ]
  },
  {
   "cell_type": "code",
   "execution_count": 86,
   "id": "30678255-5b40-4b6d-9ceb-fcb7eb0d3150",
   "metadata": {},
   "outputs": [
    {
     "name": "stdout",
     "output_type": "stream",
     "text": [
      "Values are not normally distributed.\n"
     ]
    }
   ],
   "source": [
    "stat, p_value = ks_2samp(canceled_meal[\"is_having_meal\"], canceled_meal[\"adr\"])\n",
    "alpha = 0.05\n",
    "\n",
    "if p_value < alpha:\n",
    "    print(\"Values are not normally distributed.\")\n",
    "else:\n",
    "    print(\"Values are normally distributed.\")"
   ]
  },
  {
   "cell_type": "markdown",
   "id": "74ee8696-6baf-488d-809b-d5a8ac4162cd",
   "metadata": {},
   "source": [
    "### Hypothesis Testing\n",
    "Because the data is not normally distributed, the Spearman Test is used."
   ]
  },
  {
   "cell_type": "code",
   "execution_count": 88,
   "id": "38178917-8994-4a89-abcd-30c067e729c3",
   "metadata": {},
   "outputs": [
    {
     "name": "stdout",
     "output_type": "stream",
     "text": [
      "Hypothesis:\n",
      "H0: There is no correlation between meal and ADR.\n",
      "H1: There is a correlation between meal and ADR.\n",
      "Criteria: Reject null hypothesis if the p_value ≤ alpha.\n",
      "\n",
      "rho: 0.11957936169952711\n",
      "P-value: 2.5840134842906585e-53\n",
      "Reject the null hypothesis.\n"
     ]
    }
   ],
   "source": [
    "print(\"\"\"Hypothesis:\n",
    "H0: There is no correlation between meal and ADR.\n",
    "H1: There is a correlation between meal and ADR.\n",
    "Criteria: Reject null hypothesis if the p_value ≤ alpha.\n",
    "\"\"\")\n",
    "\n",
    "r_value, p_value = spearmanr(canceled_meal[\"is_having_meal\"], canceled_meal[\"adr\"])\n",
    "alpha = 0.05\n",
    "\n",
    "print(f\"rho: {r_value}\")\n",
    "print(f\"P-value: {p_value}\")\n",
    "\n",
    "if p_value <= alpha:\n",
    "    print(\"Reject the null hypothesis.\")\n",
    "else:\n",
    "    print(\"Fail to reject the null hypothesis.\")"
   ]
  },
  {
   "cell_type": "markdown",
   "id": "8c3e64b7-37d4-4c79-a86b-169657ea655c",
   "metadata": {},
   "source": [
    "**Insight**\n",
    "\n",
    "From the hypothesis testing, it can be concluded that there is a weak positive correlation between meal and ADR."
   ]
  },
  {
   "cell_type": "code",
   "execution_count": 90,
   "id": "17565f13-2d9c-444f-afa8-d0b4a970c061",
   "metadata": {},
   "outputs": [
    {
     "name": "stdout",
     "output_type": "stream",
     "text": [
      "                            OLS Regression Results                            \n",
      "==============================================================================\n",
      "Dep. Variable:                    adr   R-squared:                       0.017\n",
      "Model:                            OLS   Adj. R-squared:                  0.017\n",
      "Method:                 Least Squares   F-statistic:                     284.6\n",
      "Date:                Sun, 03 Nov 2024   Prob (F-statistic):           2.52e-63\n",
      "Time:                        10:29:43   Log-Likelihood:                -82631.\n",
      "No. Observations:               16406   AIC:                         1.653e+05\n",
      "Df Residuals:                   16404   BIC:                         1.653e+05\n",
      "Df Model:                           1                                         \n",
      "Covariance Type:            nonrobust                                         \n",
      "==================================================================================\n",
      "                     coef    std err          t      P>|t|      [0.025      0.975]\n",
      "----------------------------------------------------------------------------------\n",
      "const            104.8995      1.021    102.791      0.000     102.899     106.900\n",
      "is_having_meal    14.7786      0.876     16.871      0.000      13.062      16.496\n",
      "==============================================================================\n",
      "Omnibus:                      980.814   Durbin-Watson:                   1.076\n",
      "Prob(Omnibus):                  0.000   Jarque-Bera (JB):              710.685\n",
      "Skew:                           0.409   Prob(JB):                    4.75e-155\n",
      "Kurtosis:                       2.390   Cond. No.                         6.96\n",
      "==============================================================================\n",
      "\n",
      "Notes:\n",
      "[1] Standard Errors assume that the covariance matrix of the errors is correctly specified.\n"
     ]
    }
   ],
   "source": [
    "y = canceled_meal[\"adr\"]\n",
    "x = canceled_meal[\"is_having_meal\"]\n",
    "x = sm.add_constant(x)\n",
    "\n",
    "model = sm.OLS(y, x)\n",
    "result = model.fit()\n",
    "print(result.summary())"
   ]
  },
  {
   "cell_type": "markdown",
   "id": "9f946882-5a3f-4258-be61-729b0afd3733",
   "metadata": {},
   "source": [
    "**Insight**\n",
    "\n",
    "Based on the regression result, it can be concluded that:\n",
    "1. 1.7 percent of the variation in the dependent variable, namely ADR, can be explain by the variation in the independent variable, namely Meal.\n",
    "2. Meal variable significantly positively affects the ADR, where every 1 unit increase in meal leads to a 14.779 unit increase in potential ADR gained.\n",
    "3. The estimated value of potential ADR is 104.889 unit, ceteris paribus."
   ]
  },
  {
   "cell_type": "markdown",
   "id": "ea127a97-0fb3-41b3-b5eb-451a6f0e19be",
   "metadata": {},
   "source": [
    "## Special Requests Impact on ADR"
   ]
  },
  {
   "cell_type": "code",
   "execution_count": 93,
   "id": "10d74295-836c-4ab7-84b9-f638678a4f4e",
   "metadata": {},
   "outputs": [],
   "source": [
    "canceled_special_requests = df[(df[\"is_canceled\"] == 1) & (df[\"total_of_special_requests\"] > 0)]"
   ]
  },
  {
   "cell_type": "markdown",
   "id": "0a547a35-4613-4612-8cba-8e7408f2dea3",
   "metadata": {},
   "source": [
    "### Normality Test\n",
    "Here we use the Kolgomorov-Smirnov Test."
   ]
  },
  {
   "cell_type": "code",
   "execution_count": 95,
   "id": "ef945e69-872c-4a9f-b160-4064f90cfe1a",
   "metadata": {},
   "outputs": [
    {
     "name": "stdout",
     "output_type": "stream",
     "text": [
      "Values are not normally distributed.\n"
     ]
    }
   ],
   "source": [
    "stat, p_value = ks_2samp(canceled_special_requests[\"total_of_special_requests\"], canceled_special_requests[\"adr\"])\n",
    "alpha = 0.05\n",
    "\n",
    "if p_value < alpha:\n",
    "    print(\"Values are not normally distributed.\")\n",
    "else:\n",
    "    print(\"Values are normally distributed\")"
   ]
  },
  {
   "cell_type": "markdown",
   "id": "84941e30-48de-4a87-8f89-f25d12df3143",
   "metadata": {},
   "source": [
    "### Hypothesis Testing\n",
    "Because the data is not normally distributed, the Spearman Test is used."
   ]
  },
  {
   "cell_type": "code",
   "execution_count": 97,
   "id": "d41324f7-8668-48e4-a8e4-1e653c1024e7",
   "metadata": {},
   "outputs": [
    {
     "name": "stdout",
     "output_type": "stream",
     "text": [
      "Hypothesis:\n",
      "H0: There is no correlation between special request and ADR.\n",
      "H1: There is a correlation between special request and ADR.\n",
      "Criteria: Reject null hypothesis if the p_value ≤ alpha.\n",
      "\n",
      "rho: 0.016257291944177382\n",
      "P-value: 0.14801360505382258\n",
      "Fail to reject the null hypothesis.\n"
     ]
    }
   ],
   "source": [
    "print(\"\"\"Hypothesis:\n",
    "H0: There is no correlation between special request and ADR.\n",
    "H1: There is a correlation between special request and ADR.\n",
    "Criteria: Reject null hypothesis if the p_value ≤ alpha.\n",
    "\"\"\")\n",
    "\n",
    "r_value, p_value = spearmanr(canceled_special_requests[\"total_of_special_requests\"], canceled_special_requests[\"adr\"])\n",
    "alpha = 0.05\n",
    "\n",
    "print(f\"rho: {r_value}\")\n",
    "print(f\"P-value: {p_value}\")\n",
    "\n",
    "if p_value <= alpha:\n",
    "    print(\"Reject the null hypothesis.\")\n",
    "else:\n",
    "    print(\"Fail to reject the null hypothesis.\")"
   ]
  },
  {
   "cell_type": "markdown",
   "id": "ef4ed493-56dd-4d41-8f8b-9e24933dd2bb",
   "metadata": {},
   "source": [
    "**Insight**\n",
    "\n",
    "From the hypothesis testing, it can be concluded that there is no correlation between special requests and ADR."
   ]
  },
  {
   "cell_type": "markdown",
   "id": "5e3f5307-aa4e-4355-a6e2-c26eba146f6e",
   "metadata": {},
   "source": [
    "## Cancelation Impact on Potential ADR"
   ]
  },
  {
   "cell_type": "code",
   "execution_count": 100,
   "id": "2fe1e08b-1c38-418b-a9f5-f817534b1a26",
   "metadata": {},
   "outputs": [],
   "source": [
    "df_canceled = df[df[\"is_canceled\"] == 1]\n",
    "df_noncanceled = df[df[\"is_canceled\"] == 0]"
   ]
  },
  {
   "cell_type": "markdown",
   "id": "9c078e7a-9407-4e79-ba80-885fc6c9112a",
   "metadata": {},
   "source": [
    "### Normality Test\n",
    "Here we use the Kolgomorov-Smirnov Test."
   ]
  },
  {
   "cell_type": "code",
   "execution_count": 102,
   "id": "ea133b08-d100-47a4-913e-172d0bdf6fdc",
   "metadata": {},
   "outputs": [
    {
     "name": "stdout",
     "output_type": "stream",
     "text": [
      "Values are not normally distributed.\n"
     ]
    }
   ],
   "source": [
    "stat, p_value = ks_2samp(df_canceled[\"adr\"], df_noncanceled[\"adr\"])\n",
    "alpha = 0.05\n",
    "\n",
    "if p_value < alpha:\n",
    "    print(\"Values are not normally distributed.\")\n",
    "else:\n",
    "    print(\"Values are normally distributed.\")"
   ]
  },
  {
   "cell_type": "markdown",
   "id": "1ba3a53f-2658-4f6b-86e9-32005d6f8d69",
   "metadata": {},
   "source": [
    "### Hypothesis Testing\n",
    "Here we use the Mann-Whitney U Test."
   ]
  },
  {
   "cell_type": "code",
   "execution_count": 104,
   "id": "982c0c86-3d54-465a-a45a-4e651c1d2365",
   "metadata": {},
   "outputs": [
    {
     "name": "stdout",
     "output_type": "stream",
     "text": [
      "Hypothesis:\n",
      "H0: There is no correlation between cancelation and potential ADR.\n",
      "H1: There is a correlation between cancelation and potential ADR.\n",
      "Criteria: Reject null hypothesis if the p_value ≤ alpha.\n",
      "\n",
      "rho: 0.016257291944177382\n",
      "P-value: 1.0980914674718216e-135\n",
      "Reject the null hypothesis.\n"
     ]
    }
   ],
   "source": [
    "print(\"\"\"Hypothesis:\n",
    "H0: There is no correlation between cancelation and potential ADR.\n",
    "H1: There is a correlation between cancelation and potential ADR.\n",
    "Criteria: Reject null hypothesis if the p_value ≤ alpha.\n",
    "\"\"\")\n",
    "\n",
    "stat, p_value = mannwhitneyu(df_canceled[\"adr\"], df_noncanceled[\"adr\"])\n",
    "alpha = 0.05\n",
    "\n",
    "print(f\"rho: {r_value}\")\n",
    "print(f\"P-value: {p_value}\")\n",
    "\n",
    "if p_value <= alpha:\n",
    "    print(\"Reject the null hypothesis.\")\n",
    "else:\n",
    "    print(\"Fail to reject the null hypothesis.\")"
   ]
  },
  {
   "cell_type": "markdown",
   "id": "c7db0ac1-0a13-4e89-b76f-23c3cd532dfd",
   "metadata": {},
   "source": [
    "**Insight**\n",
    "\n",
    "From the hypothesis testing, it can be concluded that there is a correlation between cancelation and potential ADR. In other words, potential ADR can be affected by the booking cancelation."
   ]
  },
  {
   "cell_type": "markdown",
   "id": "5ec3f5dd-a7f8-4ce0-b529-5f5e48a17013",
   "metadata": {},
   "source": [
    "# Conclusion"
   ]
  },
  {
   "cell_type": "markdown",
   "id": "8bcef1c2-61f8-41c2-bfa7-6911c7fd7e91",
   "metadata": {},
   "source": [
    "Based on the analysis conducted, the following conclusions can be drawn:\n",
    "1. Most cancelations occured between July and September, with a significant decrease from November to February.\n",
    "2. Most cancelations were made by European tourists, especially domestic travelers from Lisbon.\n",
    "3. The hotel loss lots of potential revenue, evident from the ADR difference between canceled and non canceled bookings. This could be a huge blow to the hotel's financial stability, potentially impacting it's ability to operate in the future.\n",
    "4. A longer lead time (the time between the booking made and arrival) leads to a higher booking cancellations."
   ]
  },
  {
   "cell_type": "markdown",
   "id": "b6865446-7b29-44b8-a17b-d5eb46dc824a",
   "metadata": {},
   "source": [
    "# Recommendation"
   ]
  },
  {
   "cell_type": "markdown",
   "id": "490be689-f2ae-4f38-87e6-709e103366a6",
   "metadata": {},
   "source": [
    "Several recommendation can be made:\n",
    "1. The hotel should consider limiting the advance hotel booking, ideally allowing bookings no more than 3 months before the arrival.\n",
    "2. The hotel should also send reminders 1 month, 2 weeks, and the day before arival date, in case guests forget their booking. Reminders can be made via email and/or messaging platform.\n",
    "3. The hotel could add promotion for Resort Hotel, such as room rates and additional requests, during July and August when ADR is at its peak.\n",
    "4. To minimize booking cancelations, the hotel should revise its deposit policy. A full refund can be provided for cancelations made at least one month before the arrival date, a 50% for 2 weeks prior, and no refund for cancelations made within 3 days of arrival."
   ]
  }
 ],
 "metadata": {
  "kernelspec": {
   "display_name": "Python 3 (ipykernel)",
   "language": "python",
   "name": "python3"
  },
  "language_info": {
   "codemirror_mode": {
    "name": "ipython",
    "version": 3
   },
   "file_extension": ".py",
   "mimetype": "text/x-python",
   "name": "python",
   "nbconvert_exporter": "python",
   "pygments_lexer": "ipython3",
   "version": "3.12.7"
  }
 },
 "nbformat": 4,
 "nbformat_minor": 5
}
